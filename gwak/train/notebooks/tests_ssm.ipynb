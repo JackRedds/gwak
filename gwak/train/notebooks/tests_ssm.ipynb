{
 "cells": [
  {
   "cell_type": "code",
   "execution_count": 1,
   "id": "a82e622f-7b4d-4368-9e84-21dc8c62c989",
   "metadata": {},
   "outputs": [
    {
     "name": "stderr",
     "output_type": "stream",
     "text": [
      "/home/katya.govorkova/gwak2/gwak/data/prior.py:5: UserWarning: Wswiglal-redir-stdio:\n",
      "\n",
      "SWIGLAL standard output/error redirection is enabled in IPython.\n",
      "This may lead to performance penalties. To disable locally, use:\n",
      "\n",
      "with lal.no_swig_redirect_standard_output_error():\n",
      "    ...\n",
      "\n",
      "To disable globally, use:\n",
      "\n",
      "lal.swig_redirect_standard_output_error(False)\n",
      "\n",
      "Note however that this will likely lead to error messages from\n",
      "LAL functions being either misdirected or lost when called from\n",
      "Jupyter notebooks.\n",
      "\n",
      "To suppress this warning, use:\n",
      "\n",
      "import warnings\n",
      "warnings.filterwarnings(\"ignore\", \"Wswiglal-redir-stdio\")\n",
      "import lal\n",
      "\n",
      "  import lal\n"
     ]
    }
   ],
   "source": [
    "%load_ext autoreload\n",
    "%autoreload 2\n",
    "%matplotlib inline\n",
    "from gwak.train.dataloader import SignalDataloader, TimeSlidesDataloader\n",
    "from pathlib import Path\n",
    "import torch\n",
    "import matplotlib.pyplot as plt\n",
    "import numpy as np\n",
    "import torch.nn.functional as F\n",
    "import lightning.pytorch as pl\n",
    "import yaml\n",
    "from tqdm import tqdm\n",
    "from ml4gw.transforms import SpectralDensity, Whiten\n",
    "\n",
    "device = torch.device('cuda') if torch.cuda.is_available() else 'cpu'"
   ]
  },
  {
   "cell_type": "code",
   "execution_count": 2,
   "id": "f3d228d8-1d33-445d-a8a6-d1b99aa748ab",
   "metadata": {},
   "outputs": [],
   "source": [
    "data_dir = \"/home/katya.govorkova/gwak2/gwak/output/O4_MDC_background/HL\"\n",
    "sample_rate = 4096\n",
    "kernel_length = 0.5\n",
    "psd_length = 64\n",
    "fduration = 1\n",
    "fftlength = 2\n",
    "batch_size = 1024\n",
    "batches_per_epoch = 10\n",
    "num_workers = 2\n",
    "data_saving_file = None\n",
    "duration = fduration + kernel_length\n",
    "\n",
    "from gwak.data.prior import SineGaussianBBC, LAL_BBHPrior, GaussianBBC, CuspBBC, KinkBBC, KinkkinkBBC, WhiteNoiseBurstBBC\n",
    "from ml4gw.waveforms import SineGaussian, IMRPhenomPv2, Gaussian, GenerateString, WhiteNoiseBurst\n",
    "\n",
    "signal_classes = [\n",
    "    \"SineGaussian\",\n",
    "    \"BBH\",\n",
    "    \"Gaussian\",\n",
    "    \"Cusp\",\n",
    "    \"Kink\",\n",
    "    \"KinkKink\",\n",
    "    \"WhiteNoiseBurst\",\n",
    "    \"Background\"\n",
    "]\n",
    "priors = [\n",
    "    SineGaussianBBC(),\n",
    "    LAL_BBHPrior(),\n",
    "    GaussianBBC(),\n",
    "    CuspBBC(),\n",
    "    KinkBBC(),\n",
    "    KinkkinkBBC(),\n",
    "    WhiteNoiseBurstBBC(),\n",
    "    None\n",
    "]\n",
    "waveforms = [\n",
    "    SineGaussian(\n",
    "        sample_rate=sample_rate,\n",
    "        duration=duration\n",
    "    ),\n",
    "    IMRPhenomPv2(),\n",
    "    Gaussian(\n",
    "        sample_rate=sample_rate,\n",
    "        duration=duration\n",
    "    ),\n",
    "    GenerateString(\n",
    "        sample_rate=sample_rate\n",
    "    ),\n",
    "    GenerateString(\n",
    "        sample_rate=sample_rate\n",
    "    ),\n",
    "    GenerateString(\n",
    "        sample_rate=sample_rate\n",
    "    ),\n",
    "    WhiteNoiseBurst(\n",
    "        sample_rate=sample_rate,\n",
    "        duration=duration\n",
    "    ),\n",
    "    None\n",
    "]\n",
    "extra_kwargs = [\n",
    "    None,\n",
    "    {\"ringdown_duration\":0.9},\n",
    "    None,\n",
    "    None,\n",
    "    None,\n",
    "    None,\n",
    "    None,\n",
    "    None\n",
    "]"
   ]
  },
  {
   "cell_type": "code",
   "execution_count": 3,
   "id": "8fa8dc10-dc84-491e-b03c-c073652c7816",
   "metadata": {},
   "outputs": [
    {
     "name": "stdout",
     "output_type": "stream",
     "text": [
      "ifos are ['H1', 'L1']\n",
      "data dir is /home/katya.govorkova/gwak2/gwak/output/O4_MDC_background/HL\n"
     ]
    },
    {
     "name": "stderr",
     "output_type": "stream",
     "text": [
      "/home/katya.govorkova/miniconda3/envs/gwak/lib/python3.11/site-packages/ml4gw/dataloading/hdf5_dataset.py:66: ContiguousHdf5Warning: File /home/katya.govorkova/gwak2/gwak/output/O4_MDC_background/HL/background-1402686754-28601.h5 contains datasets without chunked storage. This may impact I/O performance.\n",
      "  warnings.warn(\n",
      "/home/katya.govorkova/miniconda3/envs/gwak/lib/python3.11/site-packages/ml4gw/dataloading/hdf5_dataset.py:66: ContiguousHdf5Warning: File /home/katya.govorkova/gwak2/gwak/output/O4_MDC_background/HL/background-1403697272-13408.h5 contains datasets without chunked storage. This may impact I/O performance.\n",
      "  warnings.warn(\n",
      "/home/katya.govorkova/miniconda3/envs/gwak/lib/python3.11/site-packages/ml4gw/dataloading/hdf5_dataset.py:66: ContiguousHdf5Warning: File /home/katya.govorkova/gwak2/gwak/output/O4_MDC_background/HL/background-1403388029-1315.h5 contains datasets without chunked storage. This may impact I/O performance.\n",
      "  warnings.warn(\n",
      "/home/katya.govorkova/miniconda3/envs/gwak/lib/python3.11/site-packages/ml4gw/dataloading/hdf5_dataset.py:66: ContiguousHdf5Warning: File /home/katya.govorkova/gwak2/gwak/output/O4_MDC_background/HL/background-1403135796-672.h5 contains datasets without chunked storage. This may impact I/O performance.\n",
      "  warnings.warn(\n",
      "/home/katya.govorkova/miniconda3/envs/gwak/lib/python3.11/site-packages/ml4gw/dataloading/hdf5_dataset.py:66: ContiguousHdf5Warning: File /home/katya.govorkova/gwak2/gwak/output/O4_MDC_background/HL/background-1402539132-11552.h5 contains datasets without chunked storage. This may impact I/O performance.\n",
      "  warnings.warn(\n",
      "/home/katya.govorkova/miniconda3/envs/gwak/lib/python3.11/site-packages/ml4gw/dataloading/hdf5_dataset.py:66: ContiguousHdf5Warning: File /home/katya.govorkova/gwak2/gwak/output/O4_MDC_background/HL/background-1403830696-26924.h5 contains datasets without chunked storage. This may impact I/O performance.\n",
      "  warnings.warn(\n",
      "/home/katya.govorkova/miniconda3/envs/gwak/lib/python3.11/site-packages/ml4gw/dataloading/hdf5_dataset.py:66: ContiguousHdf5Warning: File /home/katya.govorkova/gwak2/gwak/output/O4_MDC_background/HL/background-1402351626-6004.h5 contains datasets without chunked storage. This may impact I/O performance.\n",
      "  warnings.warn(\n",
      "/home/katya.govorkova/miniconda3/envs/gwak/lib/python3.11/site-packages/ml4gw/dataloading/hdf5_dataset.py:66: ContiguousHdf5Warning: File /home/katya.govorkova/gwak2/gwak/output/O4_MDC_background/HL/background-1402553138-11601.h5 contains datasets without chunked storage. This may impact I/O performance.\n",
      "  warnings.warn(\n",
      "/home/katya.govorkova/miniconda3/envs/gwak/lib/python3.11/site-packages/ml4gw/dataloading/hdf5_dataset.py:66: ContiguousHdf5Warning: File /home/katya.govorkova/gwak2/gwak/output/O4_MDC_background/HL/background-1403625807-3179.h5 contains datasets without chunked storage. This may impact I/O performance.\n",
      "  warnings.warn(\n",
      "/home/katya.govorkova/miniconda3/envs/gwak/lib/python3.11/site-packages/ml4gw/dataloading/hdf5_dataset.py:66: ContiguousHdf5Warning: File /home/katya.govorkova/gwak2/gwak/output/O4_MDC_background/HL/background-1403719267-11117.h5 contains datasets without chunked storage. This may impact I/O performance.\n",
      "  warnings.warn(\n"
     ]
    }
   ],
   "source": [
    "loader = SignalDataloader(signal_classes,\n",
    "    priors,\n",
    "    waveforms,\n",
    "    extra_kwargs,\n",
    "    data_dir=data_dir,\n",
    "    sample_rate=sample_rate,\n",
    "    kernel_length=kernel_length,\n",
    "    psd_length=psd_length,\n",
    "    fduration=fduration,\n",
    "    fftlength=fftlength,\n",
    "    batch_size=batch_size,\n",
    "    batches_per_epoch=batches_per_epoch,\n",
    "    num_workers=num_workers,\n",
    "    data_saving_file=data_saving_file\n",
    ")\n",
    "test_loader = loader.test_dataloader()"
   ]
  },
  {
   "cell_type": "code",
   "execution_count": 4,
   "id": "773da58c-91e8-4125-ad09-0e10824fa6d5",
   "metadata": {
    "tags": []
   },
   "outputs": [],
   "source": [
    "for batch in test_loader:\n",
    "    [batch] = batch\n",
    "    waveforms, params, ras, decs, phics = loader.generate_waveforms(batch.shape[0])\n",
    "    batch = batch.to(device)\n",
    "    x = loader.multiInject(waveforms, batch)\n",
    "    labels = torch.cat([(i+1)*torch.ones(loader.num_per_class[i]) for i in range(loader.num_classes)])\n",
    "    break"
   ]
  },
  {
   "cell_type": "code",
   "execution_count": 11,
   "id": "c52853e9-d68c-47ad-9faa-8b0e48f1f3bd",
   "metadata": {},
   "outputs": [
    {
     "data": {
      "text/plain": [
       "(10, 2, 268288)"
      ]
     },
     "execution_count": 11,
     "metadata": {},
     "output_type": "execute_result"
    }
   ],
   "source": [
    "labels.shape\n",
    "waveforms.shape"
   ]
  },
  {
   "cell_type": "code",
   "execution_count": 7,
   "id": "b55eb5ac-dc3d-471a-8e7c-e75ab11fd1d2",
   "metadata": {
    "scrolled": true
   },
   "outputs": [
    {
     "ename": "IndexError",
     "evalue": "boolean index did not match indexed array along dimension 0; dimension is 10 but corresponding boolean dimension is 1024",
     "output_type": "error",
     "traceback": [
      "\u001b[31m---------------------------------------------------------------------------\u001b[39m",
      "\u001b[31mIndexError\u001b[39m                                Traceback (most recent call last)",
      "\u001b[36mCell\u001b[39m\u001b[36m \u001b[39m\u001b[32mIn[7]\u001b[39m\u001b[32m, line 2\u001b[39m\n\u001b[32m      1\u001b[39m \u001b[38;5;28;01mimport\u001b[39;00m\u001b[38;5;250m \u001b[39m\u001b[34;01mmatplotlib\u001b[39;00m\u001b[34;01m.\u001b[39;00m\u001b[34;01mpyplot\u001b[39;00m\u001b[38;5;250m \u001b[39m\u001b[38;5;28;01mas\u001b[39;00m\u001b[38;5;250m \u001b[39m\u001b[34;01mplt\u001b[39;00m\n\u001b[32m----> \u001b[39m\u001b[32m2\u001b[39m waveforms_with_label_8 = \u001b[43mwaveforms\u001b[49m\u001b[43m[\u001b[49m\u001b[43mlabels\u001b[49m\u001b[43m \u001b[49m\u001b[43m==\u001b[49m\u001b[43m \u001b[49m\u001b[32;43m8\u001b[39;49m\u001b[43m]\u001b[49m\n\u001b[32m      3\u001b[39m \u001b[38;5;66;03m# Make sure data is on CPU and in NumPy\u001b[39;00m\n\u001b[32m      4\u001b[39m waveforms_with_label_8 = waveforms_with_label_8[\u001b[32m10\u001b[39m:\u001b[32m20\u001b[39m].cpu().numpy()  \u001b[38;5;66;03m# shape: [10, 2, 2048]\u001b[39;00m\n",
      "\u001b[31mIndexError\u001b[39m: boolean index did not match indexed array along dimension 0; dimension is 10 but corresponding boolean dimension is 1024"
     ]
    }
   ],
   "source": [
    "import matplotlib.pyplot as plt\n",
    "waveforms_with_label_8 = waveforms[labels == 8]\n",
    "# Make sure data is on CPU and in NumPy\n",
    "waveforms_with_label_8 = waveforms_with_label_8[10:20].cpu().numpy()  # shape: [10, 2, 2048]\n",
    "\n",
    "# Plot 10 samples, each with 2 channels\n",
    "fig, axs = plt.subplots(10, 1, figsize=(12, 20), sharex=True)\n",
    "\n",
    "for i in range(10):\n",
    "    axs[i].plot(waveforms_with_label_8[i, 0], label=\"Channel 0\", alpha=0.7)\n",
    "    axs[i].plot(waveforms_with_label_8[i, 1], label=\"Channel 1\", alpha=0.7)\n",
    "    axs[i].set_ylabel(f\"Event {i}\")\n",
    "    axs[i].legend(loc=\"upper right\")\n",
    "    axs[i].grid(True)\n",
    "\n",
    "plt.xlabel(\"Sample Index\")\n",
    "plt.suptitle(\"First 10 Events: Channel 0 and 1\", y=1.02)\n",
    "plt.tight_layout()\n",
    "plt.show()"
   ]
  },
  {
   "cell_type": "code",
   "execution_count": 33,
   "id": "47bc8fc8-9908-459a-8499-6fdeb9eae4bf",
   "metadata": {},
   "outputs": [
    {
     "ename": "FileNotFoundError",
     "evalue": "[Errno 2] No such file or directory: '../../output/S4_SimCLR_multiSignalAndBkg/config.yaml'",
     "output_type": "error",
     "traceback": [
      "\u001b[31m---------------------------------------------------------------------------\u001b[39m",
      "\u001b[31mFileNotFoundError\u001b[39m                         Traceback (most recent call last)",
      "\u001b[36mCell\u001b[39m\u001b[36m \u001b[39m\u001b[32mIn[33]\u001b[39m\u001b[32m, line 6\u001b[39m\n\u001b[32m      4\u001b[39m ckpt = \u001b[33m\"\u001b[39m\u001b[33m../../output/S4_SimCLR_multiSignalAndBkg/lightning_logs/8wuhxd59/checkpoints/47-2400.ckpt\u001b[39m\u001b[33m\"\u001b[39m\n\u001b[32m      5\u001b[39m cfg_path = \u001b[33m\"\u001b[39m\u001b[33m../../output/S4_SimCLR_multiSignalAndBkg/config.yaml\u001b[39m\u001b[33m\"\u001b[39m\n\u001b[32m----> \u001b[39m\u001b[32m6\u001b[39m \u001b[38;5;28;01mwith\u001b[39;00m \u001b[38;5;28;43mopen\u001b[39;49m\u001b[43m(\u001b[49m\u001b[43mcfg_path\u001b[49m\u001b[43m,\u001b[49m\u001b[33;43m\"\u001b[39;49m\u001b[33;43mr\u001b[39;49m\u001b[33;43m\"\u001b[39;49m\u001b[43m)\u001b[49m \u001b[38;5;28;01mas\u001b[39;00m fin:\n\u001b[32m      7\u001b[39m     cfg = yaml.load(fin,yaml.FullLoader)\n\u001b[32m      9\u001b[39m model = Crayon.load_from_checkpoint(ckpt,**cfg[\u001b[33m'\u001b[39m\u001b[33mmodel\u001b[39m\u001b[33m'\u001b[39m][\u001b[33m'\u001b[39m\u001b[33minit_args\u001b[39m\u001b[33m'\u001b[39m])\n",
      "\u001b[36mFile \u001b[39m\u001b[32m~/miniconda3/envs/gwak/lib/python3.11/site-packages/IPython/core/interactiveshell.py:325\u001b[39m, in \u001b[36m_modified_open\u001b[39m\u001b[34m(file, *args, **kwargs)\u001b[39m\n\u001b[32m    318\u001b[39m \u001b[38;5;28;01mif\u001b[39;00m file \u001b[38;5;129;01min\u001b[39;00m {\u001b[32m0\u001b[39m, \u001b[32m1\u001b[39m, \u001b[32m2\u001b[39m}:\n\u001b[32m    319\u001b[39m     \u001b[38;5;28;01mraise\u001b[39;00m \u001b[38;5;167;01mValueError\u001b[39;00m(\n\u001b[32m    320\u001b[39m         \u001b[33mf\u001b[39m\u001b[33m\"\u001b[39m\u001b[33mIPython won\u001b[39m\u001b[33m'\u001b[39m\u001b[33mt let you open fd=\u001b[39m\u001b[38;5;132;01m{\u001b[39;00mfile\u001b[38;5;132;01m}\u001b[39;00m\u001b[33m by default \u001b[39m\u001b[33m\"\u001b[39m\n\u001b[32m    321\u001b[39m         \u001b[33m\"\u001b[39m\u001b[33mas it is likely to crash IPython. If you know what you are doing, \u001b[39m\u001b[33m\"\u001b[39m\n\u001b[32m    322\u001b[39m         \u001b[33m\"\u001b[39m\u001b[33myou can use builtins\u001b[39m\u001b[33m'\u001b[39m\u001b[33m open.\u001b[39m\u001b[33m\"\u001b[39m\n\u001b[32m    323\u001b[39m     )\n\u001b[32m--> \u001b[39m\u001b[32m325\u001b[39m \u001b[38;5;28;01mreturn\u001b[39;00m \u001b[43mio_open\u001b[49m\u001b[43m(\u001b[49m\u001b[43mfile\u001b[49m\u001b[43m,\u001b[49m\u001b[43m \u001b[49m\u001b[43m*\u001b[49m\u001b[43margs\u001b[49m\u001b[43m,\u001b[49m\u001b[43m \u001b[49m\u001b[43m*\u001b[49m\u001b[43m*\u001b[49m\u001b[43mkwargs\u001b[49m\u001b[43m)\u001b[49m\n",
      "\u001b[31mFileNotFoundError\u001b[39m: [Errno 2] No such file or directory: '../../output/S4_SimCLR_multiSignalAndBkg/config.yaml'"
     ]
    }
   ],
   "source": [
    "from gwak.train.cl_models import Crayon\n",
    "import yaml\n",
    "\n",
    "ckpt = \"../../output/S4_SimCLR_multiSignalAndBkg/lightning_logs/8wuhxd59/checkpoints/47-2400.ckpt\"\n",
    "cfg_path = \"../../output/S4_SimCLR_multiSignalAndBkg/config.yaml\"\n",
    "with open(cfg_path,\"r\") as fin:\n",
    "    cfg = yaml.load(fin,yaml.FullLoader)\n",
    "\n",
    "model = Crayon.load_from_checkpoint(ckpt,**cfg['model']['init_args'])\n",
    "model = model.eval()"
   ]
  },
  {
   "cell_type": "code",
   "execution_count": null,
   "id": "1d9d99b2-713f-496a-8ca8-dd45183096fa",
   "metadata": {},
   "outputs": [],
   "source": [
    "tot = 0\n",
    "output = []\n",
    "labs = []\n",
    "for batch in tqdm(test_loader):\n",
    "    [batch] = batch\n",
    "    waveforms, params, ras, decs, phics = loader.generate_waveforms(batch.shape[0])\n",
    "    batch = batch.to(device)\n",
    "    x = loader.multiInject(waveforms, batch)\n",
    "    labels = torch.cat([(i+1)*torch.ones(loader.num_per_class[i]) for i in range(loader.num_classes)])\n",
    "    \n",
    "    with torch.no_grad():\n",
    "        y = model.model(x).cpu().numpy()\n",
    "    \n",
    "    output.append(y)\n",
    "    labs.append(labels.cpu().numpy())\n",
    "    \n",
    "    tot += y.shape[0]\n",
    "\n",
    "l = np.concatenate(labs)\n",
    "y = np.concatenate(output,axis=0)"
   ]
  },
  {
   "cell_type": "code",
   "execution_count": null,
   "id": "88c5507a-f922-4725-966d-89684981e7cb",
   "metadata": {},
   "outputs": [],
   "source": [
    "#import corner\n",
    "\n",
    "N = y.shape[1]\n",
    "labs_uniq = sorted(list(set(l)))\n",
    "fig,axes = plt.subplots(N,N,figsize=(20,20))\n",
    "\n",
    "for i in range(y.shape[1]):\n",
    "    for j in range(i+1,y.shape[1]):\n",
    "        plt.sca(axes[i,j])\n",
    "        plt.axis('off')\n",
    "\n",
    "for i in range(y.shape[1]):\n",
    "    plt.sca(axes[i,i])\n",
    "    plt.xticks([])\n",
    "    plt.yticks([])\n",
    "    bins = 30\n",
    "    for j,lab in enumerate(labs_uniq):\n",
    "        h,bins,_ = plt.hist(y[l==lab][:,i],bins=bins,histtype='step',color=f\"C{j}\")\n",
    "        \n",
    "for i in range(1,y.shape[1]):\n",
    "    for j in range(i):\n",
    "        plt.sca(axes[i,j])\n",
    "        plt.xticks([])\n",
    "        plt.yticks([])\n",
    "        for k,lab in enumerate(labs_uniq):\n",
    "            ysel = y[l==lab]\n",
    "            plt.scatter(ysel[:,j],ysel[:,i],s=2,color=f\"C{k}\")\n",
    "            \n",
    "from matplotlib.patches import Patch\n",
    "plt.sca(axes[2,5])\n",
    "patches = []\n",
    "for k,lab in enumerate(labs_uniq):\n",
    "    patches.append(Patch(color=f\"C{k}\",label=signal_classes[k]))\n",
    "plt.legend(handles=patches,ncol=2,fontsize=12)\n",
    "\n",
    "#plt.tight_layout()\n",
    "\n",
    "#for i,lab in enumerate(sorted(list(set(l)))):\n",
    "#    corner.corner(y[l==lab],fig=fig,color=f\"C{i}\")"
   ]
  },
  {
   "cell_type": "code",
   "execution_count": null,
   "id": "abc6f587-a67c-416b-ab87-891587ee4dc9",
   "metadata": {},
   "outputs": [],
   "source": [
    "flow = torch.jit.load(\"../../output/S4_SimCLR_multiSignalAndBkg_NF_onlyBkg/model.pt\")\n",
    "flow.eval()\n",
    "for i, c in enumerate(signal_classes):\n",
    "    ysel = y[l==i+1]\n",
    "    plt.hist(flow(torch.from_numpy(ysel)).detach().cpu().numpy(), bins=100,  label=c, density=True, alpha=0.8) #, range=(-10000,0))\n",
    "\n",
    "plt.xlabel(\"NF log probability\")\n",
    "plt.yscale(\"log\")\n",
    "plt.legend()  "
   ]
  },
  {
   "cell_type": "code",
   "execution_count": null,
   "id": "82170f32-c9b1-4d90-93e1-7b3aa48b3836",
   "metadata": {},
   "outputs": [],
   "source": [
    "linear = torch.jit.load(\"../../output/linear_metric/SimCLR_multiSignal_all/linear_model_JIT.pt\")\n",
    "for i, c in enumerate(signal_classes):\n",
    "    ysel = y[l==i+1]\n",
    "    plt.hist(linear(torch.from_numpy(ysel)).detach().numpy(), bins=100, range=(-2,2.), label=c, density=True, alpha=0.8)\n",
    "\n",
    "plt.xlabel(\"Linear metric\")\n",
    "plt.legend()  "
   ]
  },
  {
   "cell_type": "code",
   "execution_count": null,
   "id": "40f25bf0-bf7b-4488-9862-6e0778e9f690",
   "metadata": {},
   "outputs": [],
   "source": [
    "linear = torch.jit.load(\"../../output/linear_metric/SimCLR_multiSignal_all/mlp_model_JIT.pt\")\n",
    "for i, c in enumerate(signal_classes):\n",
    "    ysel = y[l==i+1]\n",
    "    plt.hist(linear(torch.from_numpy(ysel)).detach().numpy(), bins=100, range=(0.01,1.01), label=c, density=True, alpha=0.8)\n",
    "\n",
    "plt.xlabel(\"MLP based metric\")\n",
    "plt.legend()  "
   ]
  },
  {
   "cell_type": "code",
   "execution_count": null,
   "id": "7ea63e66-3fe2-485c-af36-6ea76d0e2cf5",
   "metadata": {},
   "outputs": [],
   "source": []
  }
 ],
 "metadata": {
  "kernelspec": {
   "display_name": "Python 3 (ipykernel)",
   "language": "python",
   "name": "python3"
  },
  "language_info": {
   "codemirror_mode": {
    "name": "ipython",
    "version": 3
   },
   "file_extension": ".py",
   "mimetype": "text/x-python",
   "name": "python",
   "nbconvert_exporter": "python",
   "pygments_lexer": "ipython3",
   "version": "3.11.11"
  }
 },
 "nbformat": 4,
 "nbformat_minor": 5
}
