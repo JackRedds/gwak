{
 "cells": [
  {
   "cell_type": "code",
   "execution_count": 2,
   "id": "50a831af-af2c-42ad-b817-e6b724cdc9a4",
   "metadata": {},
   "outputs": [],
   "source": [
    "# check the tool by comparing Cat1 segments to our segment list\n",
    "from gwpy.segments import DataQualityFlag"
   ]
  },
  {
   "cell_type": "code",
   "execution_count": 4,
   "id": "b110f001-8dd7-4a45-9cfc-ccdcd0a4d64f",
   "metadata": {},
   "outputs": [
    {
     "ename": "HTTPError",
     "evalue": "404 Client Error: Not Found for url: https://segments.ligo.org/dq/H1/DMT-DET_CAT1",
     "output_type": "error",
     "traceback": [
      "\u001b[31m---------------------------------------------------------------------------\u001b[39m",
      "\u001b[31mHTTPError\u001b[39m                                 Traceback (most recent call last)",
      "\u001b[36mCell\u001b[39m\u001b[36m \u001b[39m\u001b[32mIn[4]\u001b[39m\u001b[32m, line 7\u001b[39m\n\u001b[32m      4\u001b[39m end = \u001b[32m1402069900\u001b[39m\n\u001b[32m      6\u001b[39m \u001b[38;5;66;03m# CAT1 segments\u001b[39;00m\n\u001b[32m----> \u001b[39m\u001b[32m7\u001b[39m cat1 = \u001b[43mDataQualityFlag\u001b[49m\u001b[43m.\u001b[49m\u001b[43mquery\u001b[49m\u001b[43m(\u001b[49m\u001b[33;43mf\u001b[39;49m\u001b[33;43m'\u001b[39;49m\u001b[38;5;132;43;01m{\u001b[39;49;00m\u001b[43mifo\u001b[49m\u001b[38;5;132;43;01m}\u001b[39;49;00m\u001b[33;43m:DMT-DET_CAT1\u001b[39;49m\u001b[33;43m'\u001b[39;49m\u001b[43m,\u001b[49m\u001b[43m \u001b[49m\u001b[43mstart\u001b[49m\u001b[43m,\u001b[49m\u001b[43m \u001b[49m\u001b[43mend\u001b[49m\u001b[43m,\u001b[49m\u001b[43m \u001b[49m\u001b[43murl\u001b[49m\u001b[43m=\u001b[49m\u001b[33;43m\"\u001b[39;49m\u001b[33;43mhttps://segments.ligo.org\u001b[39;49m\u001b[33;43m\"\u001b[39;49m\u001b[43m)\u001b[49m\n\u001b[32m      9\u001b[39m \u001b[38;5;66;03m# CAT2 segments\u001b[39;00m\n\u001b[32m     10\u001b[39m cat2 = DataQualityFlag.query(\u001b[33mf\u001b[39m\u001b[33m'\u001b[39m\u001b[38;5;132;01m{\u001b[39;00mifo\u001b[38;5;132;01m}\u001b[39;00m\u001b[33m:DMT-DET_CAT2\u001b[39m\u001b[33m'\u001b[39m, start, end, url=\u001b[33m\"\u001b[39m\u001b[33mhttps://segments.ligo.org\u001b[39m\u001b[33m\"\u001b[39m)\n",
      "\u001b[36mFile \u001b[39m\u001b[32m~/miniconda3/envs/gwak/lib/python3.11/site-packages/gwpy/segments/flag.py:400\u001b[39m, in \u001b[36mDataQualityFlag.query_dqsegdb\u001b[39m\u001b[34m(cls, flag, *args, **kwargs)\u001b[39m\n\u001b[32m    398\u001b[39m \u001b[38;5;66;03m# query\u001b[39;00m\n\u001b[32m    399\u001b[39m \u001b[38;5;28;01mtry\u001b[39;00m:\n\u001b[32m--> \u001b[39m\u001b[32m400\u001b[39m     data = \u001b[43mquery_segments\u001b[49m\u001b[43m(\u001b[49m\u001b[43mflag\u001b[49m\u001b[43m,\u001b[49m\u001b[43m \u001b[49m\u001b[38;5;28;43mint\u001b[39;49m\u001b[43m(\u001b[49m\u001b[43mstart\u001b[49m\u001b[43m)\u001b[49m\u001b[43m,\u001b[49m\u001b[43m \u001b[49m\u001b[38;5;28;43mint\u001b[39;49m\u001b[43m(\u001b[49m\u001b[43mend\u001b[49m\u001b[43m)\u001b[49m\u001b[43m,\u001b[49m\u001b[43m \u001b[49m\u001b[43mhost\u001b[49m\u001b[43m=\u001b[49m\u001b[43murl\u001b[49m\u001b[43m)\u001b[49m\n\u001b[32m    401\u001b[39m \u001b[38;5;28;01mexcept\u001b[39;00m HTTPError \u001b[38;5;28;01mas\u001b[39;00m exc:\n\u001b[32m    402\u001b[39m     \u001b[38;5;28;01mif\u001b[39;00m exc.code == \u001b[32m404\u001b[39m:  \u001b[38;5;66;03m# if not found, annotate flag name\u001b[39;00m\n",
      "\u001b[36mFile \u001b[39m\u001b[32m~/miniconda3/envs/gwak/lib/python3.11/site-packages/dqsegdb2/query.py:307\u001b[39m, in \u001b[36mquery_segments\u001b[39m\u001b[34m(flag, start, end, host, coalesce, raw, **request_kwargs)\u001b[39m\n\u001b[32m    304\u001b[39m \u001b[38;5;28;01mwith\u001b[39;00m Session() \u001b[38;5;28;01mas\u001b[39;00m sess:\n\u001b[32m    306\u001b[39m     \u001b[38;5;28;01mif\u001b[39;00m \u001b[38;5;129;01mnot\u001b[39;00m single_version:  \u001b[38;5;66;03m# query for all versions\u001b[39;00m\n\u001b[32m--> \u001b[39m\u001b[32m307\u001b[39m         versions = \u001b[38;5;28msorted\u001b[39m(\u001b[43mquery_versions\u001b[49m\u001b[43m(\u001b[49m\n\u001b[32m    308\u001b[39m \u001b[43m            \u001b[49m\u001b[43mflag\u001b[49m\u001b[43m,\u001b[49m\n\u001b[32m    309\u001b[39m \u001b[43m            \u001b[49m\u001b[43mhost\u001b[49m\u001b[43m=\u001b[49m\u001b[43mhost\u001b[49m\u001b[43m,\u001b[49m\n\u001b[32m    310\u001b[39m \u001b[43m            \u001b[49m\u001b[43msession\u001b[49m\u001b[43m=\u001b[49m\u001b[43msess\u001b[49m\u001b[43m,\u001b[49m\n\u001b[32m    311\u001b[39m \u001b[43m            \u001b[49m\u001b[43m*\u001b[49m\u001b[43m*\u001b[49m\u001b[43mrequest_kwargs\u001b[49m\u001b[43m,\u001b[49m\n\u001b[32m    312\u001b[39m \u001b[43m        \u001b[49m\u001b[43m)\u001b[49m)\n\u001b[32m    314\u001b[39m     \u001b[38;5;28;01mif\u001b[39;00m raw \u001b[38;5;129;01mand\u001b[39;00m \u001b[38;5;129;01mnot\u001b[39;00m single_version:\n\u001b[32m    315\u001b[39m         out = []\n",
      "\u001b[36mFile \u001b[39m\u001b[32m~/miniconda3/envs/gwak/lib/python3.11/site-packages/dqsegdb2/query.py:184\u001b[39m, in \u001b[36mquery_versions\u001b[39m\u001b[34m(flag, host, raw, **request_kwargs)\u001b[39m\n\u001b[32m    182\u001b[39m ifo, name = flag.split(\u001b[33m'\u001b[39m\u001b[33m:\u001b[39m\u001b[33m'\u001b[39m, \u001b[32m1\u001b[39m)\n\u001b[32m    183\u001b[39m url = _url(host, api.versions_path, ifo, name)\n\u001b[32m--> \u001b[39m\u001b[32m184\u001b[39m out = \u001b[43mget_json\u001b[49m\u001b[43m(\u001b[49m\u001b[43murl\u001b[49m\u001b[43m,\u001b[49m\u001b[43m \u001b[49m\u001b[43m*\u001b[49m\u001b[43m*\u001b[49m\u001b[43mrequest_kwargs\u001b[49m\u001b[43m)\u001b[49m\n\u001b[32m    185\u001b[39m \u001b[38;5;28;01mif\u001b[39;00m raw:\n\u001b[32m    186\u001b[39m     \u001b[38;5;28;01mreturn\u001b[39;00m out\n",
      "\u001b[36mFile \u001b[39m\u001b[32m~/miniconda3/envs/gwak/lib/python3.11/site-packages/dqsegdb2/requests.py:53\u001b[39m, in \u001b[36mget_json\u001b[39m\u001b[34m(session, *args, **kwargs)\u001b[39m\n\u001b[32m     34\u001b[39m \u001b[38;5;250m\u001b[39m\u001b[33;03m\"\"\"Perform a GET request and return JSON.\u001b[39;00m\n\u001b[32m     35\u001b[39m \n\u001b[32m     36\u001b[39m \u001b[33;03mParameters\u001b[39;00m\n\u001b[32m   (...)\u001b[39m\u001b[32m     50\u001b[39m \u001b[33;03m    for information on how the request is performed\u001b[39;00m\n\u001b[32m     51\u001b[39m \u001b[33;03m\"\"\"\u001b[39;00m\n\u001b[32m     52\u001b[39m \u001b[38;5;28;01mif\u001b[39;00m session:\n\u001b[32m---> \u001b[39m\u001b[32m53\u001b[39m     response = \u001b[43msession\u001b[49m\u001b[43m.\u001b[49m\u001b[43mget\u001b[49m\u001b[43m(\u001b[49m\u001b[43m*\u001b[49m\u001b[43margs\u001b[49m\u001b[43m,\u001b[49m\u001b[43m \u001b[49m\u001b[43m*\u001b[49m\u001b[43m*\u001b[49m\u001b[43mkwargs\u001b[49m\u001b[43m)\u001b[49m\n\u001b[32m     54\u001b[39m \u001b[38;5;28;01melse\u001b[39;00m:\n\u001b[32m     55\u001b[39m     \u001b[38;5;28;01mwith\u001b[39;00m Session() \u001b[38;5;28;01mas\u001b[39;00m sess:\n",
      "\u001b[36mFile \u001b[39m\u001b[32m~/miniconda3/envs/gwak/lib/python3.11/site-packages/requests/sessions.py:602\u001b[39m, in \u001b[36mSession.get\u001b[39m\u001b[34m(self, url, **kwargs)\u001b[39m\n\u001b[32m    594\u001b[39m \u001b[38;5;250m\u001b[39m\u001b[33mr\u001b[39m\u001b[33;03m\"\"\"Sends a GET request. Returns :class:`Response` object.\u001b[39;00m\n\u001b[32m    595\u001b[39m \n\u001b[32m    596\u001b[39m \u001b[33;03m:param url: URL for the new :class:`Request` object.\u001b[39;00m\n\u001b[32m    597\u001b[39m \u001b[33;03m:param \\*\\*kwargs: Optional arguments that ``request`` takes.\u001b[39;00m\n\u001b[32m    598\u001b[39m \u001b[33;03m:rtype: requests.Response\u001b[39;00m\n\u001b[32m    599\u001b[39m \u001b[33;03m\"\"\"\u001b[39;00m\n\u001b[32m    601\u001b[39m kwargs.setdefault(\u001b[33m\"\u001b[39m\u001b[33mallow_redirects\u001b[39m\u001b[33m\"\u001b[39m, \u001b[38;5;28;01mTrue\u001b[39;00m)\n\u001b[32m--> \u001b[39m\u001b[32m602\u001b[39m \u001b[38;5;28;01mreturn\u001b[39;00m \u001b[38;5;28;43mself\u001b[39;49m\u001b[43m.\u001b[49m\u001b[43mrequest\u001b[49m\u001b[43m(\u001b[49m\u001b[33;43m\"\u001b[39;49m\u001b[33;43mGET\u001b[39;49m\u001b[33;43m\"\u001b[39;49m\u001b[43m,\u001b[49m\u001b[43m \u001b[49m\u001b[43murl\u001b[49m\u001b[43m,\u001b[49m\u001b[43m \u001b[49m\u001b[43m*\u001b[49m\u001b[43m*\u001b[49m\u001b[43mkwargs\u001b[49m\u001b[43m)\u001b[49m\n",
      "\u001b[36mFile \u001b[39m\u001b[32m~/miniconda3/envs/gwak/lib/python3.11/site-packages/igwn_auth_utils/requests.py:531\u001b[39m, in \u001b[36mSession.request\u001b[39m\u001b[34m(self, method, url, token, token_audience, token_scope, token_issuer, cert, auth, force_noauth, fail_if_noauth, *args, **kwargs)\u001b[39m\n\u001b[32m    517\u001b[39m auth, cert = _prepare_auth(\n\u001b[32m    518\u001b[39m     url=url,\n\u001b[32m    519\u001b[39m     auth=auth,\n\u001b[32m   (...)\u001b[39m\u001b[32m    527\u001b[39m     session=\u001b[38;5;28mself\u001b[39m,\n\u001b[32m    528\u001b[39m )\n\u001b[32m    530\u001b[39m \u001b[38;5;66;03m# continue with request\u001b[39;00m\n\u001b[32m--> \u001b[39m\u001b[32m531\u001b[39m \u001b[38;5;28;01mreturn\u001b[39;00m \u001b[38;5;28;43msuper\u001b[39;49m\u001b[43m(\u001b[49m\u001b[43m)\u001b[49m\u001b[43m.\u001b[49m\u001b[43mrequest\u001b[49m\u001b[43m(\u001b[49m\n\u001b[32m    532\u001b[39m \u001b[43m    \u001b[49m\u001b[43mmethod\u001b[49m\u001b[43m,\u001b[49m\n\u001b[32m    533\u001b[39m \u001b[43m    \u001b[49m\u001b[43murl\u001b[49m\u001b[43m,\u001b[49m\n\u001b[32m    534\u001b[39m \u001b[43m    \u001b[49m\u001b[43m*\u001b[49m\u001b[43margs\u001b[49m\u001b[43m,\u001b[49m\n\u001b[32m    535\u001b[39m \u001b[43m    \u001b[49m\u001b[43mauth\u001b[49m\u001b[43m=\u001b[49m\u001b[43mauth\u001b[49m\u001b[43m,\u001b[49m\n\u001b[32m    536\u001b[39m \u001b[43m    \u001b[49m\u001b[43mcert\u001b[49m\u001b[43m=\u001b[49m\u001b[43mcert\u001b[49m\u001b[43m,\u001b[49m\n\u001b[32m    537\u001b[39m \u001b[43m    \u001b[49m\u001b[43m*\u001b[49m\u001b[43m*\u001b[49m\u001b[43mkwargs\u001b[49m\u001b[43m,\u001b[49m\n\u001b[32m    538\u001b[39m \u001b[43m\u001b[49m\u001b[43m)\u001b[49m\n",
      "\u001b[36mFile \u001b[39m\u001b[32m~/miniconda3/envs/gwak/lib/python3.11/site-packages/requests/sessions.py:589\u001b[39m, in \u001b[36mSession.request\u001b[39m\u001b[34m(self, method, url, params, data, headers, cookies, files, auth, timeout, allow_redirects, proxies, hooks, stream, verify, cert, json)\u001b[39m\n\u001b[32m    584\u001b[39m send_kwargs = {\n\u001b[32m    585\u001b[39m     \u001b[33m\"\u001b[39m\u001b[33mtimeout\u001b[39m\u001b[33m\"\u001b[39m: timeout,\n\u001b[32m    586\u001b[39m     \u001b[33m\"\u001b[39m\u001b[33mallow_redirects\u001b[39m\u001b[33m\"\u001b[39m: allow_redirects,\n\u001b[32m    587\u001b[39m }\n\u001b[32m    588\u001b[39m send_kwargs.update(settings)\n\u001b[32m--> \u001b[39m\u001b[32m589\u001b[39m resp = \u001b[38;5;28;43mself\u001b[39;49m\u001b[43m.\u001b[49m\u001b[43msend\u001b[49m\u001b[43m(\u001b[49m\u001b[43mprep\u001b[49m\u001b[43m,\u001b[49m\u001b[43m \u001b[49m\u001b[43m*\u001b[49m\u001b[43m*\u001b[49m\u001b[43msend_kwargs\u001b[49m\u001b[43m)\u001b[49m\n\u001b[32m    591\u001b[39m \u001b[38;5;28;01mreturn\u001b[39;00m resp\n",
      "\u001b[36mFile \u001b[39m\u001b[32m~/miniconda3/envs/gwak/lib/python3.11/site-packages/requests/sessions.py:710\u001b[39m, in \u001b[36mSession.send\u001b[39m\u001b[34m(self, request, **kwargs)\u001b[39m\n\u001b[32m    707\u001b[39m r.elapsed = timedelta(seconds=elapsed)\n\u001b[32m    709\u001b[39m \u001b[38;5;66;03m# Response manipulation hooks\u001b[39;00m\n\u001b[32m--> \u001b[39m\u001b[32m710\u001b[39m r = \u001b[43mdispatch_hook\u001b[49m\u001b[43m(\u001b[49m\u001b[33;43m\"\u001b[39;49m\u001b[33;43mresponse\u001b[39;49m\u001b[33;43m\"\u001b[39;49m\u001b[43m,\u001b[49m\u001b[43m \u001b[49m\u001b[43mhooks\u001b[49m\u001b[43m,\u001b[49m\u001b[43m \u001b[49m\u001b[43mr\u001b[49m\u001b[43m,\u001b[49m\u001b[43m \u001b[49m\u001b[43m*\u001b[49m\u001b[43m*\u001b[49m\u001b[43mkwargs\u001b[49m\u001b[43m)\u001b[49m\n\u001b[32m    712\u001b[39m \u001b[38;5;66;03m# Persist cookies\u001b[39;00m\n\u001b[32m    713\u001b[39m \u001b[38;5;28;01mif\u001b[39;00m r.history:\n\u001b[32m    714\u001b[39m     \u001b[38;5;66;03m# If the hooks create history then we want those cookies too\u001b[39;00m\n",
      "\u001b[36mFile \u001b[39m\u001b[32m~/miniconda3/envs/gwak/lib/python3.11/site-packages/requests/hooks.py:30\u001b[39m, in \u001b[36mdispatch_hook\u001b[39m\u001b[34m(key, hooks, hook_data, **kwargs)\u001b[39m\n\u001b[32m     28\u001b[39m     hooks = [hooks]\n\u001b[32m     29\u001b[39m \u001b[38;5;28;01mfor\u001b[39;00m hook \u001b[38;5;129;01min\u001b[39;00m hooks:\n\u001b[32m---> \u001b[39m\u001b[32m30\u001b[39m     _hook_data = \u001b[43mhook\u001b[49m\u001b[43m(\u001b[49m\u001b[43mhook_data\u001b[49m\u001b[43m,\u001b[49m\u001b[43m \u001b[49m\u001b[43m*\u001b[49m\u001b[43m*\u001b[49m\u001b[43mkwargs\u001b[49m\u001b[43m)\u001b[49m\n\u001b[32m     31\u001b[39m     \u001b[38;5;28;01mif\u001b[39;00m _hook_data \u001b[38;5;129;01mis\u001b[39;00m \u001b[38;5;129;01mnot\u001b[39;00m \u001b[38;5;28;01mNone\u001b[39;00m:\n\u001b[32m     32\u001b[39m         hook_data = _hook_data\n",
      "\u001b[36mFile \u001b[39m\u001b[32m~/miniconda3/envs/gwak/lib/python3.11/site-packages/igwn_auth_utils/requests.py:377\u001b[39m, in \u001b[36m_hook_raise_for_status\u001b[39m\u001b[34m(response, *args, **kwargs)\u001b[39m\n\u001b[32m    371\u001b[39m \u001b[38;5;28;01mdef\u001b[39;00m\u001b[38;5;250m \u001b[39m\u001b[34m_hook_raise_for_status\u001b[39m(response, *args, **kwargs):\n\u001b[32m    372\u001b[39m \u001b[38;5;250m    \u001b[39m\u001b[33;03m\"\"\"Response hook to raise exception for any HTTP error (status >= 400).\u001b[39;00m\n\u001b[32m    373\u001b[39m \n\u001b[32m    374\u001b[39m \u001b[33;03m    Reproduced (with permission) from :mod:`requests_gracedb.errors`,\u001b[39;00m\n\u001b[32m    375\u001b[39m \u001b[33;03m    authored by Leo Singer.\u001b[39;00m\n\u001b[32m    376\u001b[39m \u001b[33;03m    \"\"\"\u001b[39;00m\n\u001b[32m--> \u001b[39m\u001b[32m377\u001b[39m     \u001b[38;5;28;01mreturn\u001b[39;00m \u001b[43mresponse\u001b[49m\u001b[43m.\u001b[49m\u001b[43mraise_for_status\u001b[49m\u001b[43m(\u001b[49m\u001b[43m)\u001b[49m\n",
      "\u001b[36mFile \u001b[39m\u001b[32m~/miniconda3/envs/gwak/lib/python3.11/site-packages/requests/models.py:1024\u001b[39m, in \u001b[36mResponse.raise_for_status\u001b[39m\u001b[34m(self)\u001b[39m\n\u001b[32m   1019\u001b[39m     http_error_msg = (\n\u001b[32m   1020\u001b[39m         \u001b[33mf\u001b[39m\u001b[33m\"\u001b[39m\u001b[38;5;132;01m{\u001b[39;00m\u001b[38;5;28mself\u001b[39m.status_code\u001b[38;5;132;01m}\u001b[39;00m\u001b[33m Server Error: \u001b[39m\u001b[38;5;132;01m{\u001b[39;00mreason\u001b[38;5;132;01m}\u001b[39;00m\u001b[33m for url: \u001b[39m\u001b[38;5;132;01m{\u001b[39;00m\u001b[38;5;28mself\u001b[39m.url\u001b[38;5;132;01m}\u001b[39;00m\u001b[33m\"\u001b[39m\n\u001b[32m   1021\u001b[39m     )\n\u001b[32m   1023\u001b[39m \u001b[38;5;28;01mif\u001b[39;00m http_error_msg:\n\u001b[32m-> \u001b[39m\u001b[32m1024\u001b[39m     \u001b[38;5;28;01mraise\u001b[39;00m HTTPError(http_error_msg, response=\u001b[38;5;28mself\u001b[39m)\n",
      "\u001b[31mHTTPError\u001b[39m: 404 Client Error: Not Found for url: https://segments.ligo.org/dq/H1/DMT-DET_CAT1"
     ]
    }
   ],
   "source": [
    "# Example parameters\n",
    "ifo = 'H1'\n",
    "start = 1401544825\n",
    "end = 1402069900\n",
    "\n",
    "# CAT1 segments\n",
    "cat1 = DataQualityFlag.query(f'{ifo}:DMT-DET_CAT1', start, end, url=\"https://segments.ligo.org\")\n",
    "\n",
    "# CAT2 segments\n",
    "cat2 = DataQualityFlag.query(f'{ifo}:DMT-DET_CAT2', start, end, url=\"https://segments.ligo.org\")\n",
    "\n",
    "# Good segments: CAT1 ∩ CAT2\n",
    "good_segments = cat1.active & cat2.active\n",
    "\n",
    "# Print or inspect\n",
    "print(\"Usable segments:\", good_segments)"
   ]
  },
  {
   "cell_type": "code",
   "execution_count": 5,
   "id": "637932a0-6c31-4943-bc83-744c56f8eea2",
   "metadata": {},
   "outputs": [
    {
     "ename": "ValueError",
     "evalue": "Cannot parse ifo or tag (name) for flag '*'",
     "output_type": "error",
     "traceback": [
      "\u001b[31m---------------------------------------------------------------------------\u001b[39m",
      "\u001b[31mValueError\u001b[39m                                Traceback (most recent call last)",
      "\u001b[36mCell\u001b[39m\u001b[36m \u001b[39m\u001b[32mIn[5]\u001b[39m\u001b[32m, line 8\u001b[39m\n\u001b[32m      5\u001b[39m end = \u001b[32m1402069900\u001b[39m\n\u001b[32m      7\u001b[39m \u001b[38;5;66;03m# List all available segment flags in this time range\u001b[39;00m\n\u001b[32m----> \u001b[39m\u001b[32m8\u001b[39m flags = \u001b[43mDataQualityFlag\u001b[49m\u001b[43m.\u001b[49m\u001b[43mquery\u001b[49m\u001b[43m(\u001b[49m\u001b[33;43m'\u001b[39;49m\u001b[33;43m*\u001b[39;49m\u001b[33;43m'\u001b[39;49m\u001b[43m,\u001b[49m\u001b[43m \u001b[49m\u001b[43mstart\u001b[49m\u001b[43m,\u001b[49m\u001b[43m \u001b[49m\u001b[43mend\u001b[49m\u001b[43m,\u001b[49m\u001b[43m \u001b[49m\u001b[43murl\u001b[49m\u001b[43m=\u001b[49m\u001b[33;43m'\u001b[39;49m\u001b[33;43mhttps://segments.ligo.org\u001b[39;49m\u001b[33;43m'\u001b[39;49m\u001b[43m)\u001b[49m\n\u001b[32m     10\u001b[39m \u001b[38;5;66;03m# Show all flags that returned data\u001b[39;00m\n\u001b[32m     11\u001b[39m \u001b[38;5;28mprint\u001b[39m(\u001b[33m\"\u001b[39m\u001b[33mAvailable flags:\u001b[39m\u001b[33m\"\u001b[39m)\n",
      "\u001b[36mFile \u001b[39m\u001b[32m~/miniconda3/envs/gwak/lib/python3.11/site-packages/gwpy/segments/flag.py:389\u001b[39m, in \u001b[36mDataQualityFlag.query_dqsegdb\u001b[39m\u001b[34m(cls, flag, *args, **kwargs)\u001b[39m\n\u001b[32m    387\u001b[39m out = \u001b[38;5;28mcls\u001b[39m(name=flag)\n\u001b[32m    388\u001b[39m \u001b[38;5;28;01mif\u001b[39;00m out.ifo \u001b[38;5;129;01mis\u001b[39;00m \u001b[38;5;28;01mNone\u001b[39;00m \u001b[38;5;129;01mor\u001b[39;00m out.tag \u001b[38;5;129;01mis\u001b[39;00m \u001b[38;5;28;01mNone\u001b[39;00m:\n\u001b[32m--> \u001b[39m\u001b[32m389\u001b[39m     \u001b[38;5;28;01mraise\u001b[39;00m \u001b[38;5;167;01mValueError\u001b[39;00m(\u001b[33m\"\u001b[39m\u001b[33mCannot parse ifo or tag (name) for flag \u001b[39m\u001b[38;5;132;01m%r\u001b[39;00m\u001b[33m\"\u001b[39m\n\u001b[32m    390\u001b[39m                      % flag)\n\u001b[32m    392\u001b[39m \u001b[38;5;66;03m# process query\u001b[39;00m\n\u001b[32m    393\u001b[39m \u001b[38;5;28;01mfor\u001b[39;00m start, end \u001b[38;5;129;01min\u001b[39;00m qsegs:\n\u001b[32m    394\u001b[39m     \u001b[38;5;66;03m# handle infinities\u001b[39;00m\n",
      "\u001b[31mValueError\u001b[39m: Cannot parse ifo or tag (name) for flag '*'"
     ]
    }
   ],
   "source": [
    "from gwpy.segments import DataQualityFlag\n",
    "\n",
    "ifo = \"H1\"  # or \"L1\"\n",
    "start = 1402069600\n",
    "end = 1402069900\n",
    "\n",
    "# List all available segment flags in this time range\n",
    "flags = DataQualityFlag.query('*', start, end, url='https://segments.ligo.org')\n",
    "\n",
    "# Show all flags that returned data\n",
    "print(\"Available flags:\")\n",
    "for flag in sorted(flags.active.keys()):\n",
    "    print(flag)"
   ]
  },
  {
   "cell_type": "code",
   "execution_count": 1,
   "id": "af28ae5e-ec2c-41eb-bad0-bdfc2d8ffaae",
   "metadata": {},
   "outputs": [
    {
     "name": "stdout",
     "output_type": "stream",
     "text": [
      "zsh:1: command not found: dqsegdb-query\n"
     ]
    }
   ],
   "source": [
    "!dqsegdb-query \\\n",
    "  --url https://segments.ligo.org \\\n",
    "  --gps-start 1402069600 \\\n",
    "  --gps-end 1402069900 \\\n",
    "  --list"
   ]
  },
  {
   "cell_type": "code",
   "execution_count": null,
   "id": "75bf25d1-b41e-4c64-8299-1b1076acaafd",
   "metadata": {},
   "outputs": [],
   "source": []
  }
 ],
 "metadata": {
  "kernelspec": {
   "display_name": "Python 3 (ipykernel)",
   "language": "python",
   "name": "python3"
  },
  "language_info": {
   "codemirror_mode": {
    "name": "ipython",
    "version": 3
   },
   "file_extension": ".py",
   "mimetype": "text/x-python",
   "name": "python",
   "nbconvert_exporter": "python",
   "pygments_lexer": "ipython3",
   "version": "3.11.11"
  }
 },
 "nbformat": 4,
 "nbformat_minor": 5
}
