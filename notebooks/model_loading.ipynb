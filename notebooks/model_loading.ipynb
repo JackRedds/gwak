{
 "cells": [
  {
   "cell_type": "code",
   "execution_count": 1,
   "id": "3ec666d5",
   "metadata": {},
   "outputs": [
    {
     "name": "stderr",
     "output_type": "stream",
     "text": [
      "/home/jack.redepenning/miniconda3/envs/gwak/lib/python3.11/site-packages/lightning/fabric/__init__.py:41: pkg_resources is deprecated as an API. See https://setuptools.pypa.io/en/latest/pkg_resources.html. The pkg_resources package is slated for removal as early as 2025-11-30. Refrain from using this package or pin to Setuptools<81.\n"
     ]
    }
   ],
   "source": [
    "%load_ext autoreload\n",
    "%autoreload 2\n",
    "\n",
    "from gwak.train.dataloader import SignalDataloader\n",
    "import matplotlib.pyplot as plt\n",
    "import numpy as np\n",
    "import torch\n",
    "\n",
    "\n",
    "device = torch.device('cuda') if torch.cuda.is_available() else 'cpu'"
   ]
  },
  {
   "cell_type": "code",
   "execution_count": 2,
   "id": "1bf7eaff",
   "metadata": {},
   "outputs": [],
   "source": [
    "data_dir = \"/home/aframe/dev/o4_llpic/amplfi/hl/data\"\n",
    "# data_dir = \"/home/hongyin.chen/Data/GWAK_data/gwak_inspect_4K\"\n",
    "sample_rate = 4096\n",
    "kernel_length = 0.5\n",
    "psd_length = 64\n",
    "fduration = 1\n",
    "fftlength = 2\n",
    "batch_size = 2\n",
    "batches_per_epoch = 50\n",
    "num_workers = 2\n",
    "data_saving_file = None\n",
    "duration = fduration + kernel_length\n",
    "\n",
    "from gwak.data.prior import SineGaussianBBC, LAL_BBHPrior, GaussianBBC, CuspBBC, KinkBBC, KinkkinkBBC, WhiteNoiseBurstBBC\n",
    "from ml4gw.waveforms import SineGaussian, IMRPhenomPv2, Gaussian, GenerateString, WhiteNoiseBurst\n",
    "\n",
    "signal_classes = [\n",
    "    \"SineGaussian\",\n",
    "    \"BBH\",\n",
    "    \"Gaussian\",\n",
    "    \"Cusp\",\n",
    "    \"Kink\",\n",
    "    \"KinkKink\",\n",
    "    \"WhiteNoiseBurst\",\n",
    "    \"Background\"\n",
    "]\n",
    "priors = [\n",
    "    SineGaussianBBC(),\n",
    "    LAL_BBHPrior(),\n",
    "    GaussianBBC(),\n",
    "    CuspBBC(),\n",
    "    KinkBBC(),\n",
    "    KinkkinkBBC(),\n",
    "    WhiteNoiseBurstBBC(),\n",
    "    None\n",
    "]\n",
    "waveforms = [\n",
    "    SineGaussian(\n",
    "        sample_rate=sample_rate,\n",
    "        duration=duration\n",
    "    ),\n",
    "    IMRPhenomPv2(),\n",
    "    Gaussian(\n",
    "        sample_rate=sample_rate,\n",
    "        duration=duration\n",
    "    ),\n",
    "    GenerateString(\n",
    "        sample_rate=sample_rate\n",
    "    ),\n",
    "    GenerateString(\n",
    "        sample_rate=sample_rate\n",
    "    ),\n",
    "    GenerateString(\n",
    "        sample_rate=sample_rate\n",
    "    ),\n",
    "    WhiteNoiseBurst(\n",
    "        sample_rate=sample_rate,\n",
    "        duration=duration\n",
    "    ),\n",
    "    None\n",
    "]\n",
    "extra_kwargs = [\n",
    "    None,\n",
    "    {\"ringdown_duration\":0.9},\n",
    "    None,\n",
    "    None,\n",
    "    None,\n",
    "    None,\n",
    "    None,\n",
    "    None\n",
    "]"
   ]
  },
  {
   "cell_type": "code",
   "execution_count": 3,
   "id": "ad93d393",
   "metadata": {},
   "outputs": [
    {
     "name": "stdout",
     "output_type": "stream",
     "text": [
      "You passed a directory with a test/ directory but no val/, setting val set = test set\n",
      "ifos are ['H1', 'L1']\n",
      "data dir is /home/aframe/dev/o4_llpic/amplfi/hl/data\n"
     ]
    }
   ],
   "source": [
    "loader = SignalDataloader(signal_classes,\n",
    "    priors,\n",
    "    waveforms,\n",
    "    extra_kwargs,\n",
    "    data_dir=data_dir,\n",
    "    sample_rate=sample_rate,\n",
    "    kernel_length=kernel_length,\n",
    "    psd_length=psd_length,\n",
    "    fduration=fduration,\n",
    "    fftlength=fftlength,\n",
    "    batch_size=batch_size,\n",
    "    batches_per_epoch=batches_per_epoch,\n",
    "    num_workers=num_workers,\n",
    "    data_saving_file=data_saving_file,\n",
    "    snr_prior=None\n",
    ")\n",
    "test_loader = loader.test_dataloader()"
   ]
  },
  {
   "cell_type": "code",
   "execution_count": 5,
   "id": "4914ea4d",
   "metadata": {},
   "outputs": [
    {
     "data": {
      "text/plain": [
       "torch.Size([2, 2, 268288])"
      ]
     },
     "execution_count": 5,
     "metadata": {},
     "output_type": "execute_result"
    }
   ],
   "source": [
    "next(iter(test_loader))[0].shape"
   ]
  },
  {
   "cell_type": "code",
   "execution_count": 9,
   "id": "2795736e",
   "metadata": {},
   "outputs": [
    {
     "name": "stderr",
     "output_type": "stream",
     "text": [
      "  0%|          | 0/50 [00:00<?, ?it/s]"
     ]
    },
    {
     "name": "stderr",
     "output_type": "stream",
     "text": [
      "  0%|          | 0/50 [00:03<?, ?it/s]\n"
     ]
    },
    {
     "ename": "RuntimeError",
     "evalue": "MKL FFT error: Intel oneMKL DFTI ERROR: Inconsistent configuration parameters",
     "output_type": "error",
     "traceback": [
      "\u001b[31m---------------------------------------------------------------------------\u001b[39m",
      "\u001b[31mRuntimeError\u001b[39m                              Traceback (most recent call last)",
      "\u001b[36mCell\u001b[39m\u001b[36m \u001b[39m\u001b[32mIn[9]\u001b[39m\u001b[32m, line 6\u001b[39m\n\u001b[32m      4\u001b[39m batch = batch[\u001b[32m0\u001b[39m].T\n\u001b[32m      5\u001b[39m \u001b[38;5;66;03m# print(batch.T.shape)\u001b[39;00m\n\u001b[32m----> \u001b[39m\u001b[32m6\u001b[39m waveforms, params, ras, decs, phics = \u001b[43mloader\u001b[49m\u001b[43m.\u001b[49m\u001b[43mgenerate_waveforms\u001b[49m\u001b[43m(\u001b[49m\u001b[43mbatch\u001b[49m\u001b[43m.\u001b[49m\u001b[43mshape\u001b[49m\u001b[43m[\u001b[49m\u001b[32;43m0\u001b[39;49m\u001b[43m]\u001b[49m\u001b[43m)\u001b[49m\n",
      "\u001b[36mFile \u001b[39m\u001b[32m~/gwak-dir/gwak/gwak/train/dataloader.py:767\u001b[39m, in \u001b[36mSignalDataloader.generate_waveforms\u001b[39m\u001b[34m(self, batch_size, parameters, ras, decs)\u001b[39m\n\u001b[32m    764\u001b[39m         responses[i] = responses[i] * mask\n\u001b[32m    765\u001b[39m \u001b[38;5;28;01melse\u001b[39;00m:\n\u001b[32m    766\u001b[39m     \u001b[38;5;66;03m#self._logger.info(\"Using standard waveform generator\")\u001b[39;00m\n\u001b[32m--> \u001b[39m\u001b[32m767\u001b[39m     responses, params, ra, dec, phic = \u001b[43mgenerate_waveforms_standard\u001b[49m\u001b[43m(\u001b[49m\n\u001b[32m    768\u001b[39m \u001b[43m        \u001b[49m\u001b[38;5;28;43mself\u001b[39;49m\u001b[43m.\u001b[49m\u001b[43mnum_per_class\u001b[49m\u001b[43m[\u001b[49m\u001b[43mi\u001b[49m\u001b[43m]\u001b[49m\u001b[43m,\u001b[49m\n\u001b[32m    769\u001b[39m \u001b[43m        \u001b[49m\u001b[38;5;28;43mself\u001b[39;49m\u001b[43m.\u001b[49m\u001b[43mpriors\u001b[49m\u001b[43m[\u001b[49m\u001b[43mi\u001b[49m\u001b[43m]\u001b[49m\u001b[43m,\u001b[49m\n\u001b[32m    770\u001b[39m \u001b[43m        \u001b[49m\u001b[38;5;28;43mself\u001b[39;49m\u001b[43m.\u001b[49m\u001b[43mwaveforms\u001b[49m\u001b[43m[\u001b[49m\u001b[43mi\u001b[49m\u001b[43m]\u001b[49m\u001b[43m,\u001b[49m\n\u001b[32m    771\u001b[39m \u001b[43m        \u001b[49m\u001b[38;5;28;43mself\u001b[39;49m\u001b[43m,\u001b[49m\n\u001b[32m    772\u001b[39m \u001b[43m        \u001b[49m\u001b[38;5;28;43mself\u001b[39;49m\u001b[43m.\u001b[49m\u001b[43msignal_configs\u001b[49m\u001b[43m[\u001b[49m\u001b[43mi\u001b[49m\u001b[43m]\u001b[49m\u001b[43m,\u001b[49m\n\u001b[32m    773\u001b[39m \u001b[43m        \u001b[49m\u001b[38;5;28;43mself\u001b[39;49m\u001b[43m.\u001b[49m\u001b[43mifos\u001b[49m\u001b[43m,\u001b[49m\n\u001b[32m    774\u001b[39m \u001b[43m        \u001b[49m\u001b[43mparameters\u001b[49m\u001b[43m=\u001b[49m\u001b[43mparameters\u001b[49m\u001b[43m[\u001b[49m\u001b[43mi\u001b[49m\u001b[43m]\u001b[49m\u001b[43m \u001b[49m\u001b[38;5;28;43;01mif\u001b[39;49;00m\u001b[43m \u001b[49m\u001b[43mparameters\u001b[49m\u001b[43m \u001b[49m\u001b[38;5;129;43;01mis\u001b[39;49;00m\u001b[43m \u001b[49m\u001b[38;5;129;43;01mnot\u001b[39;49;00m\u001b[43m \u001b[49m\u001b[38;5;28;43;01mNone\u001b[39;49;00m\u001b[43m \u001b[49m\u001b[38;5;28;43;01melse\u001b[39;49;00m\u001b[43m \u001b[49m\u001b[38;5;28;43;01mNone\u001b[39;49;00m\u001b[43m,\u001b[49m\n\u001b[32m    775\u001b[39m \u001b[43m        \u001b[49m\u001b[43mra\u001b[49m\u001b[43m=\u001b[49m\u001b[43mras\u001b[49m\u001b[43m[\u001b[49m\u001b[43mi\u001b[49m\u001b[43m]\u001b[49m\u001b[43m \u001b[49m\u001b[38;5;28;43;01mif\u001b[39;49;00m\u001b[43m \u001b[49m\u001b[43mras\u001b[49m\u001b[43m \u001b[49m\u001b[38;5;129;43;01mis\u001b[39;49;00m\u001b[43m \u001b[49m\u001b[38;5;129;43;01mnot\u001b[39;49;00m\u001b[43m \u001b[49m\u001b[38;5;28;43;01mNone\u001b[39;49;00m\u001b[43m \u001b[49m\u001b[38;5;28;43;01melse\u001b[39;49;00m\u001b[43m \u001b[49m\u001b[38;5;28;43;01mNone\u001b[39;49;00m\u001b[43m,\u001b[49m\n\u001b[32m    776\u001b[39m \u001b[43m        \u001b[49m\u001b[43mdec\u001b[49m\u001b[43m=\u001b[49m\u001b[43mdecs\u001b[49m\u001b[43m[\u001b[49m\u001b[43mi\u001b[49m\u001b[43m]\u001b[49m\u001b[43m \u001b[49m\u001b[38;5;28;43;01mif\u001b[39;49;00m\u001b[43m \u001b[49m\u001b[43mdecs\u001b[49m\u001b[43m \u001b[49m\u001b[38;5;129;43;01mis\u001b[39;49;00m\u001b[43m \u001b[49m\u001b[38;5;129;43;01mnot\u001b[39;49;00m\u001b[43m \u001b[49m\u001b[38;5;28;43;01mNone\u001b[39;49;00m\u001b[43m \u001b[49m\u001b[38;5;28;43;01melse\u001b[39;49;00m\u001b[43m \u001b[49m\u001b[38;5;28;43;01mNone\u001b[39;49;00m\n\u001b[32m    777\u001b[39m \u001b[43m    \u001b[49m\u001b[43m)\u001b[49m\n\u001b[32m    779\u001b[39m all_responses.append(responses)\n\u001b[32m    780\u001b[39m \u001b[38;5;28;01mif\u001b[39;00m parameters \u001b[38;5;129;01mis\u001b[39;00m \u001b[38;5;28;01mNone\u001b[39;00m:\n",
      "\u001b[36mFile \u001b[39m\u001b[32m~/gwak-dir/gwak/gwak/train/dataloader.py:1137\u001b[39m, in \u001b[36mgenerate_waveforms_standard\u001b[39m\u001b[34m(batch_size, prior, waveform, loader, config, ifos, parameters, ra, dec)\u001b[39m\n\u001b[32m   1134\u001b[39m     dec = loader.dec_prior.sample((batch_size,))\n\u001b[32m   1135\u001b[39m phic = loader.phic_prior.sample((batch_size,))\n\u001b[32m-> \u001b[39m\u001b[32m1137\u001b[39m cross, plus = \u001b[43mwaveform\u001b[49m\u001b[43m(\u001b[49m\u001b[43m*\u001b[49m\u001b[43m*\u001b[49m\u001b[43mparameters\u001b[49m\u001b[43m)\u001b[49m\n\u001b[32m   1139\u001b[39m \u001b[38;5;66;03m# compute detector responses\u001b[39;00m\n\u001b[32m   1140\u001b[39m responses = compute_observed_strain(\n\u001b[32m   1141\u001b[39m     dec,\n\u001b[32m   1142\u001b[39m     phic,\n\u001b[32m   (...)\u001b[39m\u001b[32m   1148\u001b[39m     plus=plus.float()\n\u001b[32m   1149\u001b[39m )\n",
      "\u001b[36mFile \u001b[39m\u001b[32m~/miniconda3/envs/gwak/lib/python3.11/site-packages/torch/nn/modules/module.py:1751\u001b[39m, in \u001b[36mModule._wrapped_call_impl\u001b[39m\u001b[34m(self, *args, **kwargs)\u001b[39m\n\u001b[32m   1749\u001b[39m     \u001b[38;5;28;01mreturn\u001b[39;00m \u001b[38;5;28mself\u001b[39m._compiled_call_impl(*args, **kwargs)  \u001b[38;5;66;03m# type: ignore[misc]\u001b[39;00m\n\u001b[32m   1750\u001b[39m \u001b[38;5;28;01melse\u001b[39;00m:\n\u001b[32m-> \u001b[39m\u001b[32m1751\u001b[39m     \u001b[38;5;28;01mreturn\u001b[39;00m \u001b[38;5;28;43mself\u001b[39;49m\u001b[43m.\u001b[49m\u001b[43m_call_impl\u001b[49m\u001b[43m(\u001b[49m\u001b[43m*\u001b[49m\u001b[43margs\u001b[49m\u001b[43m,\u001b[49m\u001b[43m \u001b[49m\u001b[43m*\u001b[49m\u001b[43m*\u001b[49m\u001b[43mkwargs\u001b[49m\u001b[43m)\u001b[49m\n",
      "\u001b[36mFile \u001b[39m\u001b[32m~/miniconda3/envs/gwak/lib/python3.11/site-packages/torch/nn/modules/module.py:1762\u001b[39m, in \u001b[36mModule._call_impl\u001b[39m\u001b[34m(self, *args, **kwargs)\u001b[39m\n\u001b[32m   1757\u001b[39m \u001b[38;5;66;03m# If we don't have any hooks, we want to skip the rest of the logic in\u001b[39;00m\n\u001b[32m   1758\u001b[39m \u001b[38;5;66;03m# this function, and just call forward.\u001b[39;00m\n\u001b[32m   1759\u001b[39m \u001b[38;5;28;01mif\u001b[39;00m \u001b[38;5;129;01mnot\u001b[39;00m (\u001b[38;5;28mself\u001b[39m._backward_hooks \u001b[38;5;129;01mor\u001b[39;00m \u001b[38;5;28mself\u001b[39m._backward_pre_hooks \u001b[38;5;129;01mor\u001b[39;00m \u001b[38;5;28mself\u001b[39m._forward_hooks \u001b[38;5;129;01mor\u001b[39;00m \u001b[38;5;28mself\u001b[39m._forward_pre_hooks\n\u001b[32m   1760\u001b[39m         \u001b[38;5;129;01mor\u001b[39;00m _global_backward_pre_hooks \u001b[38;5;129;01mor\u001b[39;00m _global_backward_hooks\n\u001b[32m   1761\u001b[39m         \u001b[38;5;129;01mor\u001b[39;00m _global_forward_hooks \u001b[38;5;129;01mor\u001b[39;00m _global_forward_pre_hooks):\n\u001b[32m-> \u001b[39m\u001b[32m1762\u001b[39m     \u001b[38;5;28;01mreturn\u001b[39;00m \u001b[43mforward_call\u001b[49m\u001b[43m(\u001b[49m\u001b[43m*\u001b[49m\u001b[43margs\u001b[49m\u001b[43m,\u001b[49m\u001b[43m \u001b[49m\u001b[43m*\u001b[49m\u001b[43m*\u001b[49m\u001b[43mkwargs\u001b[49m\u001b[43m)\u001b[49m\n\u001b[32m   1764\u001b[39m result = \u001b[38;5;28;01mNone\u001b[39;00m\n\u001b[32m   1765\u001b[39m called_always_called_hooks = \u001b[38;5;28mset\u001b[39m()\n",
      "\u001b[36mFile \u001b[39m\u001b[32m~/miniconda3/envs/gwak/lib/python3.11/site-packages/ml4gw/waveforms/adhoc/cosmic_string.py:150\u001b[39m, in \u001b[36mGenerateString.forward\u001b[39m\u001b[34m(self, power, amplitude, f_high)\u001b[39m\n\u001b[32m    147\u001b[39m A = amp_val * phase_factor  \u001b[38;5;66;03m# shape (batch, freq_bins), complex128\u001b[39;00m\n\u001b[32m    149\u001b[39m \u001b[38;5;66;03m# iFFT => time domain: shape (batch, length), real\u001b[39;00m\n\u001b[32m--> \u001b[39m\u001b[32m150\u001b[39m hplus = \u001b[43mtorch\u001b[49m\u001b[43m.\u001b[49m\u001b[43mfft\u001b[49m\u001b[43m.\u001b[49m\u001b[43mirfft\u001b[49m\u001b[43m(\u001b[49m\u001b[43mA\u001b[49m\u001b[43m,\u001b[49m\u001b[43m \u001b[49m\u001b[43mn\u001b[49m\u001b[43m=\u001b[49m\u001b[43mlength\u001b[49m\u001b[43m,\u001b[49m\u001b[43m \u001b[49m\u001b[43mdim\u001b[49m\u001b[43m=\u001b[49m\u001b[43m-\u001b[49m\u001b[32;43m1\u001b[39;49m\u001b[43m)\u001b[49m \u001b[38;5;66;03m#THIS SHOULD BE NORM='FORWARD' BUT IT DOESNT GIVE THE SAME AS LAL\u001b[39;00m\n\u001b[32m    151\u001b[39m hplus = hplus*\u001b[38;5;28mself\u001b[39m.sample_rate  \u001b[38;5;66;03m# scale by dt THIS IS WEIRD ONLY THIS WORKS\u001b[39;00m\n\u001b[32m    152\u001b[39m hcross = torch.zeros_like(hplus)\n",
      "\u001b[31mRuntimeError\u001b[39m: MKL FFT error: Intel oneMKL DFTI ERROR: Inconsistent configuration parameters"
     ]
    }
   ],
   "source": [
    "from tqdm import tqdm\n",
    "\n",
    "for batch in tqdm(test_loader):\n",
    "    batch = batch[0].T\n",
    "    # print(batch.T.shape)\n",
    "    waveforms, params, ras, decs, phics = loader.generate_waveforms(batch.shape[0])"
   ]
  },
  {
   "cell_type": "code",
   "execution_count": null,
   "id": "461af03b",
   "metadata": {},
   "outputs": [],
   "source": []
  }
 ],
 "metadata": {
  "kernelspec": {
   "display_name": "gwak",
   "language": "python",
   "name": "python3"
  },
  "language_info": {
   "codemirror_mode": {
    "name": "ipython",
    "version": 3
   },
   "file_extension": ".py",
   "mimetype": "text/x-python",
   "name": "python",
   "nbconvert_exporter": "python",
   "pygments_lexer": "ipython3",
   "version": "3.11.13"
  }
 },
 "nbformat": 4,
 "nbformat_minor": 5
}
