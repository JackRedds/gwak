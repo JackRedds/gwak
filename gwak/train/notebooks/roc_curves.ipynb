{
 "cells": [
  {
   "cell_type": "code",
   "execution_count": 1,
   "id": "a82e622f-7b4d-4368-9e84-21dc8c62c989",
   "metadata": {},
   "outputs": [
    {
     "name": "stderr",
     "output_type": "stream",
     "text": [
      "/home/katya.govorkova/gwak2/gwak/data/prior.py:5: UserWarning: Wswiglal-redir-stdio:\n",
      "\n",
      "SWIGLAL standard output/error redirection is enabled in IPython.\n",
      "This may lead to performance penalties. To disable locally, use:\n",
      "\n",
      "with lal.no_swig_redirect_standard_output_error():\n",
      "    ...\n",
      "\n",
      "To disable globally, use:\n",
      "\n",
      "lal.swig_redirect_standard_output_error(False)\n",
      "\n",
      "Note however that this will likely lead to error messages from\n",
      "LAL functions being either misdirected or lost when called from\n",
      "Jupyter notebooks.\n",
      "\n",
      "To suppress this warning, use:\n",
      "\n",
      "import warnings\n",
      "warnings.filterwarnings(\"ignore\", \"Wswiglal-redir-stdio\")\n",
      "import lal\n",
      "\n",
      "  import lal\n"
     ]
    }
   ],
   "source": [
    "%load_ext autoreload\n",
    "%autoreload 2\n",
    "\n",
    "from gwak.train.dataloader import SignalDataloader\n",
    "from pathlib import Path\n",
    "import torch\n",
    "import matplotlib.pyplot as plt\n",
    "import numpy as np\n",
    "import torch.nn.functional as F\n",
    "import lightning.pytorch as pl\n",
    "import yaml\n",
    "from tqdm import tqdm\n",
    "from ml4gw.transforms import SpectralDensity, Whiten\n",
    "from sklearn.metrics import roc_curve, auc\n",
    "from tqdm import tqdm\n",
    "\n",
    "device = torch.device('cuda') if torch.cuda.is_available() else 'cpu'"
   ]
  },
  {
   "cell_type": "code",
   "execution_count": 2,
   "id": "f3d228d8-1d33-445d-a8a6-d1b99aa748ab",
   "metadata": {},
   "outputs": [],
   "source": [
    "data_dir = \"/home/katya.govorkova/gwak2/gwak/output/O4_MDC_background/HL/\"\n",
    "sample_rate = 4096\n",
    "kernel_length = 0.5\n",
    "psd_length = 64\n",
    "fduration = 1\n",
    "fftlength = 2\n",
    "batch_size = 1024\n",
    "batches_per_epoch = 500\n",
    "num_workers = 2\n",
    "data_saving_file = None\n",
    "duration = fduration + kernel_length\n",
    "\n",
    "from gwak.data.prior import SineGaussianBBC, LAL_BBHPrior, GaussianBBC, CuspBBC, KinkBBC, KinkkinkBBC, WhiteNoiseBurstBBC\n",
    "from ml4gw.waveforms import SineGaussian, IMRPhenomPv2, Gaussian, GenerateString, WhiteNoiseBurst\n",
    "\n",
    "signal_classes = [\n",
    "    \"SineGaussian\",\n",
    "    \"BBH\",\n",
    "    \"Gaussian\",\n",
    "    \"Cusp\",\n",
    "    \"Kink\",\n",
    "    \"KinkKink\",\n",
    "    \"WhiteNoiseBurst\",\n",
    "    \"Background\"\n",
    "]\n",
    "priors = [\n",
    "    SineGaussianBBC(),\n",
    "    LAL_BBHPrior(),\n",
    "    GaussianBBC(),\n",
    "    CuspBBC(),\n",
    "    KinkBBC(),\n",
    "    KinkkinkBBC(),\n",
    "    WhiteNoiseBurstBBC(),\n",
    "    None\n",
    "]\n",
    "waveforms = [\n",
    "    SineGaussian(\n",
    "        sample_rate=sample_rate,\n",
    "        duration=duration\n",
    "    ),\n",
    "    IMRPhenomPv2(),\n",
    "    Gaussian(\n",
    "        sample_rate=sample_rate,\n",
    "        duration=duration\n",
    "    ),\n",
    "    GenerateString(\n",
    "        sample_rate=sample_rate\n",
    "    ),\n",
    "    GenerateString(\n",
    "        sample_rate=sample_rate\n",
    "    ),\n",
    "    GenerateString(\n",
    "        sample_rate=sample_rate\n",
    "    ),\n",
    "    WhiteNoiseBurst(\n",
    "        sample_rate=sample_rate,\n",
    "        duration=duration\n",
    "    ),\n",
    "    None\n",
    "]\n",
    "extra_kwargs = [\n",
    "    None,\n",
    "    {\"ringdown_duration\":0.9},\n",
    "    None,\n",
    "    None,\n",
    "    None,\n",
    "    None,\n",
    "    None,\n",
    "    None\n",
    "]"
   ]
  },
  {
   "cell_type": "code",
   "execution_count": 3,
   "id": "8fa8dc10-dc84-491e-b03c-c073652c7816",
   "metadata": {},
   "outputs": [
    {
     "name": "stderr",
     "output_type": "stream",
     "text": [
      "/home/katya.govorkova/miniconda3/envs/gwak/lib/python3.11/site-packages/ml4gw/dataloading/hdf5_dataset.py:83: ContiguousHdf5Warning: File /home/katya.govorkova/gwak2/gwak/output/O4_MDC_background/HL/background-1401696321-8160.h5 contains datasets that were generated without using chunked storage. This can have severe performance impacts at data loading time. If you need faster loading, try re-generating your datset with chunked storage turned on.\n",
      "  warnings.warn(\n"
     ]
    }
   ],
   "source": [
    "loader = SignalDataloader(signal_classes,\n",
    "    priors,\n",
    "    waveforms,\n",
    "    extra_kwargs,\n",
    "    data_dir=data_dir,\n",
    "    sample_rate=sample_rate,\n",
    "    kernel_length=kernel_length,\n",
    "    psd_length=psd_length,\n",
    "    fduration=fduration,\n",
    "    fftlength=fftlength,\n",
    "    batch_size=batch_size,\n",
    "    batches_per_epoch=batches_per_epoch,\n",
    "    num_workers=num_workers,\n",
    "    data_saving_file=data_saving_file\n",
    ")\n",
    "test_loader = loader.test_dataloader()"
   ]
  },
  {
   "cell_type": "code",
   "execution_count": 4,
   "id": "773da58c-91e8-4125-ad09-0e10824fa6d5",
   "metadata": {
    "tags": []
   },
   "outputs": [],
   "source": [
    "for batch in test_loader:\n",
    "    [batch] = batch\n",
    "    waveforms, params, ras, decs, phics = loader.generate_waveforms(batch.shape[0])\n",
    "    batch = batch.to(device)\n",
    "    x,snr = loader.multiInject_SNR(waveforms, batch)\n",
    "    labels = torch.cat([(i+1)*torch.ones(loader.num_per_class[i]) for i in range(loader.num_classes)])\n",
    "    break"
   ]
  },
  {
   "cell_type": "code",
   "execution_count": null,
   "id": "5993ac10-0ede-4c9a-8a25-2ba5466f1272",
   "metadata": {
    "tags": []
   },
   "outputs": [
    {
     "name": "stdout",
     "output_type": "stream",
     "text": [
      "iter 1/1\n"
     ]
    },
    {
     "name": "stderr",
     "output_type": "stream",
     "text": [
      "  0%|                                                                                                        | 0/500 [00:00<?, ?it/s]"
     ]
    },
    {
     "name": "stdout",
     "output_type": "stream",
     "text": [
      "loaded batch\n"
     ]
    },
    {
     "name": "stderr",
     "output_type": "stream",
     "text": [
      "  0%|▏                                                                                           | 1/500 [01:40<13:59:42, 100.97s/it]"
     ]
    },
    {
     "name": "stdout",
     "output_type": "stream",
     "text": [
      "loaded batch\n"
     ]
    },
    {
     "name": "stderr",
     "output_type": "stream",
     "text": [
      "  0%|▎                                                                                            | 2/500 [03:08<12:53:29, 93.19s/it]"
     ]
    },
    {
     "name": "stdout",
     "output_type": "stream",
     "text": [
      "loaded batch\n"
     ]
    },
    {
     "name": "stderr",
     "output_type": "stream",
     "text": [
      "  1%|▌                                                                                            | 3/500 [04:36<12:31:03, 90.67s/it]"
     ]
    },
    {
     "name": "stdout",
     "output_type": "stream",
     "text": [
      "loaded batch\n"
     ]
    },
    {
     "name": "stderr",
     "output_type": "stream",
     "text": [
      "  1%|▋                                                                                            | 4/500 [05:57<11:59:15, 87.01s/it]"
     ]
    },
    {
     "name": "stdout",
     "output_type": "stream",
     "text": [
      "loaded batch\n"
     ]
    },
    {
     "name": "stderr",
     "output_type": "stream",
     "text": [
      "  1%|▉                                                                                            | 5/500 [07:15<11:30:30, 83.70s/it]"
     ]
    },
    {
     "name": "stdout",
     "output_type": "stream",
     "text": [
      "loaded batch\n"
     ]
    },
    {
     "name": "stderr",
     "output_type": "stream",
     "text": [
      "  1%|█                                                                                            | 6/500 [08:35<11:17:46, 82.32s/it]"
     ]
    },
    {
     "name": "stdout",
     "output_type": "stream",
     "text": [
      "loaded batch\n"
     ]
    },
    {
     "name": "stderr",
     "output_type": "stream",
     "text": [
      "  1%|█▎                                                                                           | 7/500 [09:55<11:11:54, 81.77s/it]"
     ]
    },
    {
     "name": "stdout",
     "output_type": "stream",
     "text": [
      "loaded batch\n"
     ]
    },
    {
     "name": "stderr",
     "output_type": "stream",
     "text": [
      "  2%|█▍                                                                                           | 8/500 [11:21<11:21:43, 83.14s/it]"
     ]
    }
   ],
   "source": [
    "from gwak.train.cl_models import Crayon\n",
    "import yaml\n",
    "\n",
    "ckpt = \"/home/eric.moreno/gwak2/gwak/output/S4_SimCLR_multiSignalAndBkg/47-2400.ckpt\"\n",
    "cfg_path = \"/home/eric.moreno/gwak2/gwak/output/S4_SimCLR_multiSignalAndBkg/config.yaml\"\n",
    "with open(cfg_path,\"r\") as fin:\n",
    "    cfg = yaml.load(fin,yaml.FullLoader)\n",
    "\n",
    "embed_model = Crayon(**cfg['model']['init_args'])\n",
    "ckpt_dict = torch.load(ckpt, map_location='cuda')\n",
    "embed_model.load_state_dict(ckpt_dict['state_dict'])\n",
    "embed_model.eval()\n",
    "embed_model.to(\"cuda\")\n",
    "\n",
    "metric_model_path = \"/home/katya.govorkova/gwak2/gwak/output/S4_SimCLR_multiSignalAndBkg_NF_onlyBkg/model.pt\"\n",
    "metric_model = torch.jit.load(metric_model_path)\n",
    "metric_model.to(\"cuda\")\n",
    "metric_model.eval()\n",
    "\n",
    "\n",
    "# Containers to store anomaly scores and binary labels\n",
    "all_scores = []\n",
    "all_binary_labels = []\n",
    "all_labels = []\n",
    "all_snrs = []\n",
    "all_embeddings = []\n",
    "\n",
    "# Iterate over the test data loader\n",
    "niter = 1\n",
    "for ib in range(niter):\n",
    "    print(f\"iter {ib+1}/{niter}\")\n",
    "    for batch in tqdm(test_loader):\n",
    "        [batch] = batch\n",
    "        # Generate the corresponding waveforms\n",
    "        waveforms, params, ras, decs, phics = loader.generate_waveforms(batch.shape[0])\n",
    "        batch = batch.to(device)\n",
    "        print('loaded batch')\n",
    "        # Process the waveforms into the required input format\n",
    "        x, snrs = loader.multiInject_SNR(waveforms, batch)\n",
    "        # snrs = snrs/sample_rate # TODO: why is this necessary lmao\n",
    "\n",
    "        # Reconstruct the ground truth multi-class labels\n",
    "        labels = torch.cat([(i+1)*torch.ones(loader.num_per_class[i]) for i in range(loader.num_classes)]).to(device)\n",
    "\n",
    "        with torch.no_grad():\n",
    "            z = embed_model.model(x.to(device)).cpu()\n",
    "            scores = metric_model(z).squeeze().cpu().numpy()\n",
    "            # The combined model directly outputs the anomaly score\n",
    "            #scores = combined_model(x.to(device)).squeeze()  # (batch_size,)\n",
    "            #scores = scores.cpu().numpy()\n",
    "            # Invert the scores so that higher values correspond to more anomalous behavior\n",
    "            scores = -scores\n",
    "\n",
    "        # Convert the multi-class labels to binary labels:\n",
    "        # Treat \"Background\" (assumed to be label 8) as 0 (normal) and all other classes as 1 (anomaly)\n",
    "        binary_labels = (labels != 8).cpu().numpy()\n",
    "\n",
    "        all_scores.append(scores)\n",
    "        all_binary_labels.append(binary_labels)\n",
    "        all_labels.append(labels.cpu().numpy())\n",
    "        all_snrs.append(snrs.cpu().numpy())\n",
    "        all_embeddings.append(z.numpy())\n",
    "\n",
    "# Concatenate scores and labels across batches\n",
    "all_scores = np.concatenate(all_scores)\n",
    "all_binary_labels = np.concatenate(all_binary_labels)\n",
    "all_labels = np.concatenate(all_labels)\n",
    "all_snrs = np.concatenate(all_snrs)\n",
    "all_embeddings = np.concatenate(all_embeddings)"
   ]
  },
  {
   "cell_type": "raw",
   "id": "0abdbef9-0197-4a25-986e-8cc9cf75a48f",
   "metadata": {},
   "source": [
    "np.save(\"roc_data/nf_scores.npy\",all_scores)\n",
    "np.save(\"roc_data/labels.npy\",all_labels)\n",
    "np.save(\"roc_data/snrs.npy\",all_snrs)\n",
    "np.save(\"roc_data/embeddings.npy\",all_embeddings)"
   ]
  },
  {
   "cell_type": "code",
   "execution_count": null,
   "id": "bf2eb1c9-387b-4809-bdf9-d9239ab76488",
   "metadata": {},
   "outputs": [],
   "source": [
    "all_scores = np.load(\"roc_data/nf_scores.npy\")\n",
    "all_labels = np.load(\"roc_data/labels.npy\")\n",
    "all_snrs = np.load(\"roc_data/snrs.npy\")\n",
    "all_embeddings = np.load(\"roc_data/embeddings.npy\")\n",
    "all_binary_labels = (all_labels!=8).astype(np.float32)"
   ]
  },
  {
   "cell_type": "markdown",
   "id": "4bcaa432-7cc1-4088-97ba-fdd989b47f40",
   "metadata": {
    "tags": []
   },
   "source": [
    "## try gmm"
   ]
  },
  {
   "cell_type": "code",
   "execution_count": null,
   "id": "80a85257-75fe-419a-a306-774a6a449f93",
   "metadata": {
    "tags": []
   },
   "outputs": [],
   "source": [
    "import sys \n",
    "sys.path.append(\"/n/home11/sambt/phlab-neurips25/utils\")\n",
    "from plotting import make_corner\n",
    "make_corner(all_embeddings,all_labels)"
   ]
  },
  {
   "cell_type": "code",
   "execution_count": null,
   "id": "c7f89acb-eca4-4937-afa4-79844d554ff8",
   "metadata": {
    "tags": []
   },
   "outputs": [],
   "source": [
    "make_corner(all_embeddings[all_labels==8],all_labels[all_labels==8])"
   ]
  },
  {
   "cell_type": "code",
   "execution_count": null,
   "id": "51a12413-aeca-42a3-b1e9-66b84a00e4d0",
   "metadata": {},
   "outputs": [],
   "source": [
    "from sklearn.mixture import GaussianMixture\n",
    "from sklearn.neighbors import KernelDensity\n",
    "#mix = GaussianMixture(n_components=2).fit(all_embeddings[all_labels==8])\n",
    "mix = KernelDensity(kernel='gaussian',bandwidth=0.5).fit(all_embeddings[all_labels==8])"
   ]
  },
  {
   "cell_type": "code",
   "execution_count": null,
   "id": "5217a051-d664-4fbc-a1ff-32aa77469ce5",
   "metadata": {},
   "outputs": [],
   "source": [
    "signal_classes = [\n",
    "    \"SineGaussian\",\n",
    "    \"BBH\",\n",
    "    \"Gaussian\",\n",
    "    \"Cusp\",\n",
    "    \"Kink\",\n",
    "    \"KinkKink\",\n",
    "    \"WhiteNoiseBurst\",\n",
    "    \"Background\"\n",
    "]\n",
    "signal_labels = np.arange(len(signal_classes))+1\n",
    "scores_gmm = []\n",
    "for chunk in tqdm(np.array_split(all_embeddings,len(all_embeddings)//100,axis=0)):\n",
    "    scores_gmm.append(-mix.score_samples(chunk))\n",
    "scores_gmm = np.concatenate(scores_gmm)"
   ]
  },
  {
   "cell_type": "code",
   "execution_count": null,
   "id": "33dacc3e-b14e-43a6-8bab-23e4c631e27e",
   "metadata": {},
   "outputs": [],
   "source": [
    "np.save(\"roc_data/scores_kde.npy\",scores_gmm)"
   ]
  },
  {
   "cell_type": "code",
   "execution_count": null,
   "id": "5768dcf6-d629-46b6-af7a-3dc914058f4a",
   "metadata": {},
   "outputs": [],
   "source": [
    "plt.figure(figsize=(8,6))\n",
    "bins = np.linspace(scores_gmm[all_labels==8].min(),scores_gmm[all_labels==8].max(),50)\n",
    "for lab,name in zip(signal_labels,signal_classes):\n",
    "    h = plt.hist(scores_gmm[all_labels==lab],label=name,histtype='step',lw=2,bins=bins)\n",
    "plt.legend()\n",
    "plt.yscale('log')"
   ]
  },
  {
   "cell_type": "code",
   "execution_count": null,
   "id": "886e2ab7-30b3-4376-a0a4-5106d99be968",
   "metadata": {},
   "outputs": [],
   "source": [
    "fpr, tpr, thresholds = roc_curve((all_labels!=8).astype(np.float32), scores_gmm)\n",
    "roc_auc = auc(fpr, tpr)\n",
    "\n",
    "# Plot the ROC curve\n",
    "plt.figure(figsize=(8,6))\n",
    "plt.plot(fpr, tpr, color=\"darkorange\", lw=2, label=f\"ROC curve (area = {roc_auc:.2f})\")\n",
    "plt.plot([0, 1], [0, 1], color=\"navy\", lw=2, linestyle=\"--\")\n",
    "plt.xlim([0.0, 1.0])\n",
    "plt.ylim([0.0, 1.05])\n",
    "plt.xlabel(\"False Positive Rate\")\n",
    "plt.ylabel(\"True Positive Rate\")\n",
    "plt.title(\"ROC (All Signals)\")\n",
    "plt.legend(loc=\"lower right\")\n",
    "plt.savefig(\"roc_combined_gmm.png\")\n",
    "plt.show()"
   ]
  },
  {
   "cell_type": "code",
   "execution_count": null,
   "id": "ac191b6c-0963-4431-9c67-921ee2d50a02",
   "metadata": {},
   "outputs": [],
   "source": [
    "plt.figure(figsize=(8,6))\n",
    "colors = ['b', 'g', 'r', 'c', 'm', 'y', 'k']  # Colors for each anomaly class\n",
    "for i, anomaly_class in enumerate(signal_classes[:-1]):  # Exclude \"Background\"\n",
    "    # The anomaly class numeric label is i+1.\n",
    "    anomaly_val = i + 1\n",
    "    # Filter to only examples that are either the current anomaly class or Background (label 8).\n",
    "    idx = np.where((all_labels == anomaly_val) | (all_labels == 8))[0]\n",
    "    if idx.size == 0:\n",
    "        continue  # skip if no examples\n",
    "    scores_i = scores_gmm[idx]\n",
    "    # Create binary ground truth: positive if the example is of the current anomaly class, 0 if background.\n",
    "    binary_labels = (all_labels[idx] == anomaly_val).astype(int)\n",
    "    \n",
    "    # Compute the ROC curve and AUC\n",
    "    fpr, tpr, thresholds = roc_curve(binary_labels, scores_i)\n",
    "    roc_auc = auc(fpr, tpr)\n",
    "    \n",
    "    plt.plot(fpr, tpr, color=colors[i % len(colors)], lw=2,\n",
    "             label=f\"{anomaly_class} (AUC = {roc_auc:.2f})\")\n",
    "\n",
    "# Plot reference line (diagonal)\n",
    "plt.plot([0, 1], [0, 1], color=\"navy\", lw=2, linestyle=\"--\")\n",
    "plt.xlim([0.0, 1.0])\n",
    "plt.ylim([0.0, 1.05])\n",
    "plt.xlabel(\"False Positive Rate\")\n",
    "plt.ylabel(\"True Positive Rate\")\n",
    "#plt.yscale('log')\n",
    "plt.title(\"ROC Curves by Anomaly Class\")\n",
    "plt.legend(loc=\"lower right\")\n",
    "plt.savefig(\"rocs_bySignal_gmm.png\")\n",
    "plt.show()"
   ]
  },
  {
   "cell_type": "code",
   "execution_count": null,
   "id": "a9ce9bec-f987-41eb-83de-50385b9bec61",
   "metadata": {},
   "outputs": [],
   "source": [
    "plt.figure(figsize=(8,6))\n",
    "colors = ['b', 'g', 'r', 'c', 'm', 'y', 'k']  # Colors for each anomaly class\n",
    "\n",
    "for i, anomaly_class in enumerate(signal_classes[:-1]):  # Exclude \"Background\"\n",
    "    # The anomaly class numeric label is i+1.\n",
    "    anomaly_val = i + 1\n",
    "    # Filter to only examples that are either the current anomaly class or Background (label 8).\n",
    "    idx = np.where((all_labels == anomaly_val) | (all_labels == 8))[0]\n",
    "    if idx.size == 0:\n",
    "        continue  # skip if no examples\n",
    "    scores_i = scores_gmm[idx]\n",
    "    # Create binary ground truth: positive if the example is of the current anomaly class, 0 if background.\n",
    "    binary_labels = (all_labels[idx] == anomaly_val).astype(int)\n",
    "    \n",
    "    # Compute the ROC curve and AUC\n",
    "    fpr, tpr, thresholds = roc_curve(binary_labels, scores_i)\n",
    "    roc_auc = auc(fpr, tpr)\n",
    "    \n",
    "    plt.plot(fpr, tpr, color=colors[i % len(colors)], lw=2,\n",
    "             label=f\"{anomaly_class} (AUC = {roc_auc:.2f})\")\n",
    "\n",
    "# Plot reference line (diagonal)\n",
    "plt.plot(np.linspace(0,1,100), np.linspace(0,1,100), color=\"navy\", lw=2, linestyle=\"--\")\n",
    "plt.xlim([1e-3, 1.0])\n",
    "plt.ylim([0.0, 1.05])\n",
    "plt.xlabel(\"False Positive Rate\")\n",
    "plt.ylabel(\"True Positive Rate\")\n",
    "#make x axis log\n",
    "plt.xscale('log')\n",
    "\n",
    "plt.title(\"ROC Curves by Anomaly Class\")\n",
    "plt.legend(loc=\"lower right\")\n",
    "plt.savefig(\"rocs_bySignal_logX_gmm.png\")\n",
    "plt.show()"
   ]
  },
  {
   "cell_type": "code",
   "execution_count": null,
   "id": "8b9ae168-e6e8-4bf3-a5af-fd4604283832",
   "metadata": {},
   "outputs": [],
   "source": [
    "h = plt.hist(scores_gmm[all_labels==8],bins=100)\n",
    "plt.yscale('log')"
   ]
  },
  {
   "cell_type": "code",
   "execution_count": null,
   "id": "79de6c8e-13b1-48fa-b467-aeb4847fb5e3",
   "metadata": {},
   "outputs": [],
   "source": [
    "Ns = 10\n",
    "toy_scores = []\n",
    "for i in tqdm(range(Ns)):\n",
    "    samps,_ = mix.sample(1_000_000)\n",
    "    toy_scores.append(-mix.score_samples(samps))\n",
    "toy_scores = np.concatenate(toy_scores)"
   ]
  },
  {
   "cell_type": "code",
   "execution_count": null,
   "id": "569d33da-cec6-4c80-9e8b-df7b7dbdd4f6",
   "metadata": {},
   "outputs": [],
   "source": [
    "segment_duration = 0.5\n",
    "year_sec = 3.154e7\n",
    "fraction_1yr = (1.0 / year_sec) * segment_duration\n",
    "\n",
    "\n",
    "toy_scores = scores_gmm[all_labels==8]\n",
    "q = np.quantile(toy_scores,1-fraction_1yr)\n",
    "\n",
    "plt.figure(figsize=(8,6))\n",
    "h=plt.hist(toy_scores,bins=100)\n",
    "plt.yscale('log')\n",
    "plt.axvline(q,lw=2,color='red',linestyle='--')\n",
    "print(q)"
   ]
  },
  {
   "cell_type": "code",
   "execution_count": null,
   "id": "da63e15a-f16a-4303-affa-bea9afe6deb8",
   "metadata": {},
   "outputs": [],
   "source": [
    "#threshold_1yr = q\n",
    "threshold_1yr = 7"
   ]
  },
  {
   "cell_type": "code",
   "execution_count": null,
   "id": "4f8c0aa2-d3e7-46b7-8ce2-bfb8ec369397",
   "metadata": {},
   "outputs": [],
   "source": [
    "anom_mask = (all_labels != 8)\n",
    "if np.any(anom_mask):\n",
    "    snr_min, snr_max = all_snrs[anom_mask].min(), all_snrs[anom_mask].max()\n",
    "else:\n",
    "    raise ValueError(\"No anomaly samples found in the test set!\")\n",
    "\n",
    "num_bins = 10\n",
    "bin_edges = np.logspace(-3, 3, num_bins + 1)\n",
    "bin_centers = 0.5 * (bin_edges[:-1] + bin_edges[1:])\n",
    "\n",
    "plt.figure(figsize=(8,6))\n",
    "\n",
    "for i, anom_class_name in enumerate(signal_classes[:-1]):\n",
    "    class_label = i + 1  # classes are 1..7\n",
    "    mask = (all_labels == class_label)\n",
    "    if not np.any(mask):\n",
    "        # If no samples for that class, skip\n",
    "        continue\n",
    "\n",
    "    class_scores = scores_gmm[mask]\n",
    "    class_snrs = all_snrs[mask]\n",
    "\n",
    "    # Bin by SNR\n",
    "    bin_idx = np.digitize(class_snrs, bin_edges) - 1  # bin indices in [0..num_bins-1]\n",
    "\n",
    "    frac_detected = []\n",
    "    for b in range(num_bins):\n",
    "        in_bin = (bin_idx == b)\n",
    "        if not np.any(in_bin):\n",
    "            frac_detected.append(np.nan)  # or 0.0 if you prefer\n",
    "        else:\n",
    "            # fraction that exceed threshold\n",
    "            frac = np.mean(class_scores[in_bin] > threshold_1yr)\n",
    "            frac_detected.append(frac)\n",
    "\n",
    "    plt.plot(bin_centers, frac_detected, marker='o', label=anom_class_name)\n",
    "\n",
    "plt.xlabel(\"SNR\")\n",
    "plt.ylabel(\"Fraction of events detected\")\n",
    "plt.title(\"Fraction of Events Detected at 1/Year FAR vs. SNR\")\n",
    "plt.ylim([0, 1.05])\n",
    "#plt.xlim([0,1e7])\n",
    "plt.xscale('log')\n",
    "plt.legend()\n",
    "plt.grid(True)\n",
    "#plt.savefig(\"fraction_1overYearFAR_SNR_gmm.png\")\n",
    "plt.show()"
   ]
  },
  {
   "cell_type": "code",
   "execution_count": null,
   "id": "5683e58c-7d7c-485e-8d3f-1c92a933eb61",
   "metadata": {},
   "outputs": [],
   "source": []
  },
  {
   "cell_type": "markdown",
   "id": "3b3ee8e4-6e4e-4539-a07c-6e10f86363f6",
   "metadata": {
    "tags": []
   },
   "source": [
    "## use nf scores"
   ]
  },
  {
   "cell_type": "code",
   "execution_count": null,
   "id": "9aba1bf1",
   "metadata": {},
   "outputs": [],
   "source": [
    "# Compute the ROC curve and AUC using scikit-learn\n",
    "fpr, tpr, thresholds = roc_curve(all_binary_labels, all_scores)\n",
    "roc_auc = auc(fpr, tpr)\n",
    "\n",
    "# Plot the ROC curve\n",
    "plt.figure(figsize=(8,6))\n",
    "plt.plot(fpr, tpr, color=\"darkorange\", lw=2, label=f\"ROC curve (area = {roc_auc:.2f})\")\n",
    "plt.plot([0, 1], [0, 1], color=\"navy\", lw=2, linestyle=\"--\")\n",
    "plt.xlim([0.0, 1.0])\n",
    "plt.ylim([0.0, 1.05])\n",
    "plt.xlabel(\"False Positive Rate\")\n",
    "plt.ylabel(\"True Positive Rate\")\n",
    "plt.title(\"ROC (All Signals)\")\n",
    "plt.legend(loc=\"lower right\")\n",
    "plt.savefig(\"roc_combined.png\")\n",
    "plt.show()"
   ]
  },
  {
   "cell_type": "code",
   "execution_count": null,
   "id": "f3ba8fbe-5a5f-489e-ac3d-dd44d0ac3fe2",
   "metadata": {},
   "outputs": [],
   "source": [
    "# The list of signal class names, with the last one being \"Background\".\n",
    "signal_classes = [\n",
    "    \"SineGaussian\",\n",
    "    \"BBH\",\n",
    "    \"Gaussian\",\n",
    "    \"Cusp\",\n",
    "    \"Kink\",\n",
    "    \"KinkKink\",\n",
    "    \"WhiteNoiseBurst\",\n",
    "    \"Background\"\n",
    "]\n",
    "\n",
    "# Compute and plot ROC curves for each anomaly class (all but \"Background\").\n",
    "\n",
    "plt.figure(figsize=(8,6))\n",
    "colors = ['b', 'g', 'r', 'c', 'm', 'y', 'k']  # Colors for each anomaly class\n",
    "\n",
    "for i, anomaly_class in enumerate(signal_classes[:-1]):  # Exclude \"Background\"\n",
    "    # The anomaly class numeric label is i+1.\n",
    "    anomaly_val = i + 1\n",
    "    # Filter to only examples that are either the current anomaly class or Background (label 8).\n",
    "    idx = np.where((all_labels == anomaly_val) | (all_labels == 8))[0]\n",
    "    if idx.size == 0:\n",
    "        continue  # skip if no examples\n",
    "    scores_i = all_scores[idx]\n",
    "    # Create binary ground truth: positive if the example is of the current anomaly class, 0 if background.\n",
    "    binary_labels = (all_labels[idx] == anomaly_val).astype(int)\n",
    "    \n",
    "    # Compute the ROC curve and AUC\n",
    "    fpr, tpr, thresholds = roc_curve(binary_labels, scores_i)\n",
    "    roc_auc = auc(fpr, tpr)\n",
    "    \n",
    "    plt.plot(fpr, tpr, color=colors[i % len(colors)], lw=2,\n",
    "             label=f\"{anomaly_class} (AUC = {roc_auc:.2f})\")\n",
    "\n",
    "# Plot reference line (diagonal)\n",
    "plt.plot([0, 1], [0, 1], color=\"navy\", lw=2, linestyle=\"--\")\n",
    "plt.xlim([0.0, 1.0])\n",
    "plt.ylim([0.0, 1.05])\n",
    "plt.xlabel(\"False Positive Rate\")\n",
    "plt.ylabel(\"True Positive Rate\")\n",
    "#plt.yscale('log')\n",
    "plt.title(\"ROC Curves by Anomaly Class\")\n",
    "plt.legend(loc=\"lower right\")\n",
    "plt.savefig(\"rocs_bySignal.png\")\n",
    "plt.show()"
   ]
  },
  {
   "cell_type": "code",
   "execution_count": null,
   "id": "75d4f38d",
   "metadata": {},
   "outputs": [],
   "source": [
    "plt.figure(figsize=(8,6))\n",
    "colors = ['b', 'g', 'r', 'c', 'm', 'y', 'k']  # Colors for each anomaly class\n",
    "\n",
    "for i, anomaly_class in enumerate(signal_classes[:-1]):  # Exclude \"Background\"\n",
    "    # The anomaly class numeric label is i+1.\n",
    "    anomaly_val = i + 1\n",
    "    # Filter to only examples that are either the current anomaly class or Background (label 8).\n",
    "    idx = np.where((all_labels == anomaly_val) | (all_labels == 8))[0]\n",
    "    if idx.size == 0:\n",
    "        continue  # skip if no examples\n",
    "    scores_i = all_scores[idx]\n",
    "    # Create binary ground truth: positive if the example is of the current anomaly class, 0 if background.\n",
    "    binary_labels = (all_labels[idx] == anomaly_val).astype(int)\n",
    "    \n",
    "    # Compute the ROC curve and AUC\n",
    "    fpr, tpr, thresholds = roc_curve(binary_labels, scores_i)\n",
    "    roc_auc = auc(fpr, tpr)\n",
    "    \n",
    "    plt.plot(fpr, tpr, color=colors[i % len(colors)], lw=2,\n",
    "             label=f\"{anomaly_class} (AUC = {roc_auc:.2f})\")\n",
    "\n",
    "# Plot reference line (diagonal)\n",
    "plt.plot(np.linspace(0,1,100), np.linspace(0,1,100), color=\"navy\", lw=2, linestyle=\"--\")\n",
    "plt.xlim([1e-3, 1.0])\n",
    "plt.ylim([0.0, 1.05])\n",
    "plt.xlabel(\"False Positive Rate\")\n",
    "plt.ylabel(\"True Positive Rate\")\n",
    "#make x axis log\n",
    "plt.xscale('log')\n",
    "\n",
    "plt.title(\"ROC Curves by Anomaly Class\")\n",
    "plt.legend(loc=\"lower right\")\n",
    "plt.savefig(\"rocs_bySignal_logX.png\")\n",
    "plt.show()"
   ]
  },
  {
   "cell_type": "code",
   "execution_count": null,
   "id": "44c1a8c7-5bbc-4eee-b061-1e747542abab",
   "metadata": {},
   "outputs": [],
   "source": [
    "segment_duration = 0.5\n",
    "year_sec = 3.154e7\n",
    "\n",
    "fraction_1yr = (1.0 / year_sec) * segment_duration\n",
    "# Extract background-only data\n",
    "bg_mask = (all_labels == 8)\n",
    "bg_scores = all_scores[bg_mask]\n",
    "threshold_1yr = np.quantile(bg_scores,1-fraction_1yr)\n",
    "\n",
    "h = plt.hist(bg_scores,bins=100)\n",
    "plt.axvline(threshold_1yr,color='red')\n",
    "plt.yscale('log')"
   ]
  },
  {
   "cell_type": "code",
   "execution_count": null,
   "id": "3b79402a",
   "metadata": {},
   "outputs": [],
   "source": [
    "import numpy as np\n",
    "import torch\n",
    "import matplotlib.pyplot as plt\n",
    "from tqdm import tqdm\n",
    "# -----------------------------------------------------------------------------\n",
    "# 3) BIN ANOMALIES BY SNR AND COMPUTE FRACTION DETECTED (SCORE > threshold_1yr)\n",
    "# -----------------------------------------------------------------------------\n",
    "\n",
    "# Your class names, last is \"Background\"\n",
    "signal_classes = [\n",
    "    \"SineGaussian\",\n",
    "    \"BBH\",\n",
    "    \"Gaussian\",\n",
    "    \"Cusp\",\n",
    "    \"Kink\",\n",
    "    \"KinkKink\",\n",
    "    \"WhiteNoiseBurst\",\n",
    "    \"Background\",\n",
    "]\n",
    "\n",
    "# We'll define 10 bins in SNR from the minimum anomaly SNR to the maximum\n",
    "# anomaly SNR across all anomaly classes (labels 1..7).\n",
    "anom_mask = (all_labels != 8)\n",
    "if np.any(anom_mask):\n",
    "    snr_min, snr_max = all_snrs[anom_mask].min(), all_snrs[anom_mask].max()\n",
    "else:\n",
    "    raise ValueError(\"No anomaly samples found in the test set!\")\n",
    "\n",
    "num_bins = 10\n",
    "bin_edges = np.logspace(-2, 3, num_bins + 1)\n",
    "bin_centers = 0.5 * (bin_edges[:-1] + bin_edges[1:])\n",
    "\n",
    "plt.figure(figsize=(8,6))\n",
    "\n",
    "for i, anom_class_name in enumerate(signal_classes[:-1]):\n",
    "    class_label = i + 1  # classes are 1..7\n",
    "    mask = (all_labels == class_label)\n",
    "    if not np.any(mask):\n",
    "        # If no samples for that class, skip\n",
    "        continue\n",
    "\n",
    "    class_scores = all_scores[mask]\n",
    "    class_snrs = all_snrs[mask]\n",
    "\n",
    "    # Bin by SNR\n",
    "    bin_idx = np.digitize(class_snrs, bin_edges) - 1  # bin indices in [0..num_bins-1]\n",
    "\n",
    "    frac_detected = []\n",
    "    for b in range(num_bins):\n",
    "        in_bin = (bin_idx == b)\n",
    "        if not np.any(in_bin):\n",
    "            frac_detected.append(np.nan)  # or 0.0 if you prefer\n",
    "        else:\n",
    "            # fraction that exceed threshold\n",
    "            frac = np.mean(class_scores[in_bin] > threshold_1yr)\n",
    "            frac_detected.append(frac)\n",
    "\n",
    "    plt.plot(bin_centers, frac_detected, marker='o', label=anom_class_name)\n",
    "\n",
    "plt.xlabel(\"SNR\")\n",
    "plt.ylabel(\"Fraction of events detected\")\n",
    "plt.title(\"Fraction of Events Detected at 1/Year FAR vs. SNR\")\n",
    "plt.ylim([0, 1.05])\n",
    "plt.xscale('log')\n",
    "plt.legend()\n",
    "plt.grid(True)\n",
    "#plt.savefig(\"fraction_1overYearFAR_SNR.png\")\n",
    "plt.show()"
   ]
  },
  {
   "cell_type": "code",
   "execution_count": null,
   "id": "55c9a3b0-cedc-42a8-91eb-f838885e97f5",
   "metadata": {},
   "outputs": [],
   "source": [
    "bins = np.logspace(1,7,100)\n",
    "for i,sig in enumerate(signal_classes[:-1]):\n",
    "    h=plt.hist(all_snrs[all_labels==i+1],bins=np.logspace(-3,3,100),label=sig,histtype='step')\n",
    "#plt.yscale('log')\n",
    "plt.xscale('log')\n",
    "plt.xlabel(\"SNR\")\n",
    "plt.legend()"
   ]
  },
  {
   "cell_type": "code",
   "execution_count": null,
   "id": "f5fba580-c02c-4bc7-a045-b99320e0a7e9",
   "metadata": {},
   "outputs": [],
   "source": []
  }
 ],
 "metadata": {
  "kernelspec": {
   "display_name": "Python 3 (ipykernel)",
   "language": "python",
   "name": "python3"
  },
  "language_info": {
   "codemirror_mode": {
    "name": "ipython",
    "version": 3
   },
   "file_extension": ".py",
   "mimetype": "text/x-python",
   "name": "python",
   "nbconvert_exporter": "python",
   "pygments_lexer": "ipython3",
   "version": "3.11.11"
  }
 },
 "nbformat": 4,
 "nbformat_minor": 5
}
